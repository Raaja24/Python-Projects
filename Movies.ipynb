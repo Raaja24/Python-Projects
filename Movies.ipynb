{
  "nbformat": 4,
  "nbformat_minor": 0,
  "metadata": {
    "colab": {
      "provenance": []
    },
    "kernelspec": {
      "name": "python3",
      "display_name": "Python 3"
    },
    "language_info": {
      "name": "python"
    }
  },
  "cells": [
    {
      "cell_type": "markdown",
      "source": [
        "<center> <b>  \n",
        "\n",
        "Name - Harsh Sanjay Shah\n",
        "\n",
        "Project - Clustering - Movies\n",
        "</b> </center>\n"
      ],
      "metadata": {
        "id": "aGTADrsem9nI"
      }
    },
    {
      "cell_type": "markdown",
      "source": [
        "## 1)Objective of the Project"
      ],
      "metadata": {
        "id": "tL5QduVAlmcX"
      }
    },
    {
      "cell_type": "markdown",
      "source": [
        "Find the relationship between different types of movies and students.\n",
        "\n",
        "find the different type of clustering techniques such as dendrogram , K- means, and sklearn.cluster.\n",
        "\n",
        "Advice to our stakeholder that according input parameter of student which movie ticket buy.\n",
        "\n"
      ],
      "metadata": {
        "id": "u2n_MmGY-xHa"
      }
    },
    {
      "cell_type": "markdown",
      "source": [
        "First, Import the required library such as pandas, Numpy ,and matplotlib.pyplot."
      ],
      "metadata": {
        "id": "hIgOp5CImbQh"
      }
    },
    {
      "cell_type": "code",
      "execution_count": null,
      "metadata": {
        "id": "MtLGzLmIm53b"
      },
      "outputs": [],
      "source": [
        "import pandas as pd\n",
        "import numpy as np\n",
        "import matplotlib.pyplot as plt\n"
      ]
    },
    {
      "cell_type": "markdown",
      "source": [
        "Import the excel file using read_excel command."
      ],
      "metadata": {
        "id": "K6cGpOqAmwCj"
      }
    },
    {
      "cell_type": "code",
      "source": [
        "dataset = pd.read_excel(\"Movie Dataset.xlsx\")"
      ],
      "metadata": {
        "id": "H4zlta86oU23"
      },
      "execution_count": null,
      "outputs": []
    },
    {
      "cell_type": "code",
      "source": [
        "dataset.head(1)"
      ],
      "metadata": {
        "colab": {
          "base_uri": "https://localhost:8080/",
          "height": 388
        },
        "id": "WTNSCbigoecB",
        "outputId": "7c101bff-935c-4dcb-e024-5f8270b373f1"
      },
      "execution_count": null,
      "outputs": [
        {
          "output_type": "execute_result",
          "data": {
            "text/plain": [
              "  Student Name Student ID  Score (%)  Score (#)  \\\n",
              "0        Akbar          -          0          0   \n",
              "\n",
              "   Using a scale 1 to 10, how much do you like action movies? (use decimals, e.g. 4.2)  \\\n",
              "0                                                9.9                                     \n",
              "\n",
              "   Using a scale 1 to 10, how much do you like adventure movies? (use decimals, e.g. 4.2)  \\\n",
              "0                                                9.9                                        \n",
              "\n",
              "   Using a scale 1 to 10, how much do you like comedy movies? (use decimals, e.g. 4.2)  \\\n",
              "0                                                9.8                                     \n",
              "\n",
              "   Using a scale 1 to 10, how much do you like crime movies? (use decimals, e.g. 4.2)  \\\n",
              "0                                                8.5                                    \n",
              "\n",
              "   Using a scale 1 to 10, how much do you like drama movies?  \\\n",
              "0                                                5.4           \n",
              "\n",
              "   Using a scale 1 to 10, how much do you like fantasy movies?  \\\n",
              "0                                                7.9             \n",
              "\n",
              "   Using a scale 1 to 10, how much do you like science fiction movies?  \\\n",
              "0                                                8.9                     \n",
              "\n",
              "   Using a scale 1 to 10, how much do you like horror movies?  \\\n",
              "0                                                9.9            \n",
              "\n",
              "   Using a scale 1 to 10, how much do you like mystery movies?  \\\n",
              "0                                                6.9             \n",
              "\n",
              "   Using a scale 1 to 10, how much do you like romance movies?  \\\n",
              "0                                               10.0             \n",
              "\n",
              "   Using a scale 1 to 10, how much do you like thriller movies?  \\\n",
              "0                                                9.5              \n",
              "\n",
              "   Using a scale 1 to 10, how much do you like documentary movies?  \\\n",
              "0                                                3.8                 \n",
              "\n",
              "   Using a scale 1 to 10, how much do you like animated movies?  \\\n",
              "0                                                7.4              \n",
              "\n",
              "  On average, how many movies you watch on a single week  \\\n",
              "0                  D. 4) Three to four movies a week       \n",
              "\n",
              "  Which of the following movies you'd say is your preferred?  \\\n",
              "0                                       D. Spiderman           \n",
              "\n",
              "  Describe yourself with 5 adjectives. For example:- Capable- Friendly- Happy- Sociable- Slow  \n",
              "0           Sociable\\nFriendly\\nchatty\\nloyal\\nHappy                                           "
            ],
            "text/html": [
              "\n",
              "  <div id=\"df-efb48900-74e9-4bc5-af14-8228f103a20e\">\n",
              "    <div class=\"colab-df-container\">\n",
              "      <div>\n",
              "<style scoped>\n",
              "    .dataframe tbody tr th:only-of-type {\n",
              "        vertical-align: middle;\n",
              "    }\n",
              "\n",
              "    .dataframe tbody tr th {\n",
              "        vertical-align: top;\n",
              "    }\n",
              "\n",
              "    .dataframe thead th {\n",
              "        text-align: right;\n",
              "    }\n",
              "</style>\n",
              "<table border=\"1\" class=\"dataframe\">\n",
              "  <thead>\n",
              "    <tr style=\"text-align: right;\">\n",
              "      <th></th>\n",
              "      <th>Student Name</th>\n",
              "      <th>Student ID</th>\n",
              "      <th>Score (%)</th>\n",
              "      <th>Score (#)</th>\n",
              "      <th>Using a scale 1 to 10, how much do you like action movies? (use decimals, e.g. 4.2)</th>\n",
              "      <th>Using a scale 1 to 10, how much do you like adventure movies? (use decimals, e.g. 4.2)</th>\n",
              "      <th>Using a scale 1 to 10, how much do you like comedy movies? (use decimals, e.g. 4.2)</th>\n",
              "      <th>Using a scale 1 to 10, how much do you like crime movies? (use decimals, e.g. 4.2)</th>\n",
              "      <th>Using a scale 1 to 10, how much do you like drama movies?</th>\n",
              "      <th>Using a scale 1 to 10, how much do you like fantasy movies?</th>\n",
              "      <th>Using a scale 1 to 10, how much do you like science fiction movies?</th>\n",
              "      <th>Using a scale 1 to 10, how much do you like horror movies?</th>\n",
              "      <th>Using a scale 1 to 10, how much do you like mystery movies?</th>\n",
              "      <th>Using a scale 1 to 10, how much do you like romance movies?</th>\n",
              "      <th>Using a scale 1 to 10, how much do you like thriller movies?</th>\n",
              "      <th>Using a scale 1 to 10, how much do you like documentary movies?</th>\n",
              "      <th>Using a scale 1 to 10, how much do you like animated movies?</th>\n",
              "      <th>On average, how many movies you watch on a single week</th>\n",
              "      <th>Which of the following movies you'd say is your preferred?</th>\n",
              "      <th>Describe yourself with 5 adjectives. For example:- Capable- Friendly- Happy- Sociable- Slow</th>\n",
              "    </tr>\n",
              "  </thead>\n",
              "  <tbody>\n",
              "    <tr>\n",
              "      <th>0</th>\n",
              "      <td>Akbar</td>\n",
              "      <td>-</td>\n",
              "      <td>0</td>\n",
              "      <td>0</td>\n",
              "      <td>9.9</td>\n",
              "      <td>9.9</td>\n",
              "      <td>9.8</td>\n",
              "      <td>8.5</td>\n",
              "      <td>5.4</td>\n",
              "      <td>7.9</td>\n",
              "      <td>8.9</td>\n",
              "      <td>9.9</td>\n",
              "      <td>6.9</td>\n",
              "      <td>10.0</td>\n",
              "      <td>9.5</td>\n",
              "      <td>3.8</td>\n",
              "      <td>7.4</td>\n",
              "      <td>D. 4) Three to four movies a week</td>\n",
              "      <td>D. Spiderman</td>\n",
              "      <td>Sociable\\nFriendly\\nchatty\\nloyal\\nHappy</td>\n",
              "    </tr>\n",
              "  </tbody>\n",
              "</table>\n",
              "</div>\n",
              "      <button class=\"colab-df-convert\" onclick=\"convertToInteractive('df-efb48900-74e9-4bc5-af14-8228f103a20e')\"\n",
              "              title=\"Convert this dataframe to an interactive table.\"\n",
              "              style=\"display:none;\">\n",
              "        \n",
              "  <svg xmlns=\"http://www.w3.org/2000/svg\" height=\"24px\"viewBox=\"0 0 24 24\"\n",
              "       width=\"24px\">\n",
              "    <path d=\"M0 0h24v24H0V0z\" fill=\"none\"/>\n",
              "    <path d=\"M18.56 5.44l.94 2.06.94-2.06 2.06-.94-2.06-.94-.94-2.06-.94 2.06-2.06.94zm-11 1L8.5 8.5l.94-2.06 2.06-.94-2.06-.94L8.5 2.5l-.94 2.06-2.06.94zm10 10l.94 2.06.94-2.06 2.06-.94-2.06-.94-.94-2.06-.94 2.06-2.06.94z\"/><path d=\"M17.41 7.96l-1.37-1.37c-.4-.4-.92-.59-1.43-.59-.52 0-1.04.2-1.43.59L10.3 9.45l-7.72 7.72c-.78.78-.78 2.05 0 2.83L4 21.41c.39.39.9.59 1.41.59.51 0 1.02-.2 1.41-.59l7.78-7.78 2.81-2.81c.8-.78.8-2.07 0-2.86zM5.41 20L4 18.59l7.72-7.72 1.47 1.35L5.41 20z\"/>\n",
              "  </svg>\n",
              "      </button>\n",
              "      \n",
              "  <style>\n",
              "    .colab-df-container {\n",
              "      display:flex;\n",
              "      flex-wrap:wrap;\n",
              "      gap: 12px;\n",
              "    }\n",
              "\n",
              "    .colab-df-convert {\n",
              "      background-color: #E8F0FE;\n",
              "      border: none;\n",
              "      border-radius: 50%;\n",
              "      cursor: pointer;\n",
              "      display: none;\n",
              "      fill: #1967D2;\n",
              "      height: 32px;\n",
              "      padding: 0 0 0 0;\n",
              "      width: 32px;\n",
              "    }\n",
              "\n",
              "    .colab-df-convert:hover {\n",
              "      background-color: #E2EBFA;\n",
              "      box-shadow: 0px 1px 2px rgba(60, 64, 67, 0.3), 0px 1px 3px 1px rgba(60, 64, 67, 0.15);\n",
              "      fill: #174EA6;\n",
              "    }\n",
              "\n",
              "    [theme=dark] .colab-df-convert {\n",
              "      background-color: #3B4455;\n",
              "      fill: #D2E3FC;\n",
              "    }\n",
              "\n",
              "    [theme=dark] .colab-df-convert:hover {\n",
              "      background-color: #434B5C;\n",
              "      box-shadow: 0px 1px 3px 1px rgba(0, 0, 0, 0.15);\n",
              "      filter: drop-shadow(0px 1px 2px rgba(0, 0, 0, 0.3));\n",
              "      fill: #FFFFFF;\n",
              "    }\n",
              "  </style>\n",
              "\n",
              "      <script>\n",
              "        const buttonEl =\n",
              "          document.querySelector('#df-efb48900-74e9-4bc5-af14-8228f103a20e button.colab-df-convert');\n",
              "        buttonEl.style.display =\n",
              "          google.colab.kernel.accessAllowed ? 'block' : 'none';\n",
              "\n",
              "        async function convertToInteractive(key) {\n",
              "          const element = document.querySelector('#df-efb48900-74e9-4bc5-af14-8228f103a20e');\n",
              "          const dataTable =\n",
              "            await google.colab.kernel.invokeFunction('convertToInteractive',\n",
              "                                                     [key], {});\n",
              "          if (!dataTable) return;\n",
              "\n",
              "          const docLinkHtml = 'Like what you see? Visit the ' +\n",
              "            '<a target=\"_blank\" href=https://colab.research.google.com/notebooks/data_table.ipynb>data table notebook</a>'\n",
              "            + ' to learn more about interactive tables.';\n",
              "          element.innerHTML = '';\n",
              "          dataTable['output_type'] = 'display_data';\n",
              "          await google.colab.output.renderOutput(dataTable, element);\n",
              "          const docLink = document.createElement('div');\n",
              "          docLink.innerHTML = docLinkHtml;\n",
              "          element.appendChild(docLink);\n",
              "        }\n",
              "      </script>\n",
              "    </div>\n",
              "  </div>\n",
              "  "
            ]
          },
          "metadata": {},
          "execution_count": 199
        }
      ]
    },
    {
      "cell_type": "markdown",
      "source": [
        "Drop the notuseful column such as studentId, Score (%), score(#)."
      ],
      "metadata": {
        "id": "rPQBK7w4m7BX"
      }
    },
    {
      "cell_type": "code",
      "source": [
        "dataset.drop(['Student ID','Score (%)','Score (#)'],axis = 'columns', inplace =True)"
      ],
      "metadata": {
        "id": "YT96zluVogCl"
      },
      "execution_count": null,
      "outputs": []
    },
    {
      "cell_type": "code",
      "source": [
        "dataset.head(1)"
      ],
      "metadata": {
        "colab": {
          "base_uri": "https://localhost:8080/",
          "height": 388
        },
        "id": "ph_3-AF-puBE",
        "outputId": "bd7ab003-a784-4764-c663-f412898259c1"
      },
      "execution_count": null,
      "outputs": [
        {
          "output_type": "execute_result",
          "data": {
            "text/plain": [
              "  Student Name  \\\n",
              "0        Akbar   \n",
              "\n",
              "   Using a scale 1 to 10, how much do you like action movies? (use decimals, e.g. 4.2)  \\\n",
              "0                                                9.9                                     \n",
              "\n",
              "   Using a scale 1 to 10, how much do you like adventure movies? (use decimals, e.g. 4.2)  \\\n",
              "0                                                9.9                                        \n",
              "\n",
              "   Using a scale 1 to 10, how much do you like comedy movies? (use decimals, e.g. 4.2)  \\\n",
              "0                                                9.8                                     \n",
              "\n",
              "   Using a scale 1 to 10, how much do you like crime movies? (use decimals, e.g. 4.2)  \\\n",
              "0                                                8.5                                    \n",
              "\n",
              "   Using a scale 1 to 10, how much do you like drama movies?  \\\n",
              "0                                                5.4           \n",
              "\n",
              "   Using a scale 1 to 10, how much do you like fantasy movies?  \\\n",
              "0                                                7.9             \n",
              "\n",
              "   Using a scale 1 to 10, how much do you like science fiction movies?  \\\n",
              "0                                                8.9                     \n",
              "\n",
              "   Using a scale 1 to 10, how much do you like horror movies?  \\\n",
              "0                                                9.9            \n",
              "\n",
              "   Using a scale 1 to 10, how much do you like mystery movies?  \\\n",
              "0                                                6.9             \n",
              "\n",
              "   Using a scale 1 to 10, how much do you like romance movies?  \\\n",
              "0                                               10.0             \n",
              "\n",
              "   Using a scale 1 to 10, how much do you like thriller movies?  \\\n",
              "0                                                9.5              \n",
              "\n",
              "   Using a scale 1 to 10, how much do you like documentary movies?  \\\n",
              "0                                                3.8                 \n",
              "\n",
              "   Using a scale 1 to 10, how much do you like animated movies?  \\\n",
              "0                                                7.4              \n",
              "\n",
              "  On average, how many movies you watch on a single week  \\\n",
              "0                  D. 4) Three to four movies a week       \n",
              "\n",
              "  Which of the following movies you'd say is your preferred?  \\\n",
              "0                                       D. Spiderman           \n",
              "\n",
              "  Describe yourself with 5 adjectives. For example:- Capable- Friendly- Happy- Sociable- Slow  \n",
              "0           Sociable\\nFriendly\\nchatty\\nloyal\\nHappy                                           "
            ],
            "text/html": [
              "\n",
              "  <div id=\"df-e548469a-7662-4ad7-a8b1-bb959df892b5\">\n",
              "    <div class=\"colab-df-container\">\n",
              "      <div>\n",
              "<style scoped>\n",
              "    .dataframe tbody tr th:only-of-type {\n",
              "        vertical-align: middle;\n",
              "    }\n",
              "\n",
              "    .dataframe tbody tr th {\n",
              "        vertical-align: top;\n",
              "    }\n",
              "\n",
              "    .dataframe thead th {\n",
              "        text-align: right;\n",
              "    }\n",
              "</style>\n",
              "<table border=\"1\" class=\"dataframe\">\n",
              "  <thead>\n",
              "    <tr style=\"text-align: right;\">\n",
              "      <th></th>\n",
              "      <th>Student Name</th>\n",
              "      <th>Using a scale 1 to 10, how much do you like action movies? (use decimals, e.g. 4.2)</th>\n",
              "      <th>Using a scale 1 to 10, how much do you like adventure movies? (use decimals, e.g. 4.2)</th>\n",
              "      <th>Using a scale 1 to 10, how much do you like comedy movies? (use decimals, e.g. 4.2)</th>\n",
              "      <th>Using a scale 1 to 10, how much do you like crime movies? (use decimals, e.g. 4.2)</th>\n",
              "      <th>Using a scale 1 to 10, how much do you like drama movies?</th>\n",
              "      <th>Using a scale 1 to 10, how much do you like fantasy movies?</th>\n",
              "      <th>Using a scale 1 to 10, how much do you like science fiction movies?</th>\n",
              "      <th>Using a scale 1 to 10, how much do you like horror movies?</th>\n",
              "      <th>Using a scale 1 to 10, how much do you like mystery movies?</th>\n",
              "      <th>Using a scale 1 to 10, how much do you like romance movies?</th>\n",
              "      <th>Using a scale 1 to 10, how much do you like thriller movies?</th>\n",
              "      <th>Using a scale 1 to 10, how much do you like documentary movies?</th>\n",
              "      <th>Using a scale 1 to 10, how much do you like animated movies?</th>\n",
              "      <th>On average, how many movies you watch on a single week</th>\n",
              "      <th>Which of the following movies you'd say is your preferred?</th>\n",
              "      <th>Describe yourself with 5 adjectives. For example:- Capable- Friendly- Happy- Sociable- Slow</th>\n",
              "    </tr>\n",
              "  </thead>\n",
              "  <tbody>\n",
              "    <tr>\n",
              "      <th>0</th>\n",
              "      <td>Akbar</td>\n",
              "      <td>9.9</td>\n",
              "      <td>9.9</td>\n",
              "      <td>9.8</td>\n",
              "      <td>8.5</td>\n",
              "      <td>5.4</td>\n",
              "      <td>7.9</td>\n",
              "      <td>8.9</td>\n",
              "      <td>9.9</td>\n",
              "      <td>6.9</td>\n",
              "      <td>10.0</td>\n",
              "      <td>9.5</td>\n",
              "      <td>3.8</td>\n",
              "      <td>7.4</td>\n",
              "      <td>D. 4) Three to four movies a week</td>\n",
              "      <td>D. Spiderman</td>\n",
              "      <td>Sociable\\nFriendly\\nchatty\\nloyal\\nHappy</td>\n",
              "    </tr>\n",
              "  </tbody>\n",
              "</table>\n",
              "</div>\n",
              "      <button class=\"colab-df-convert\" onclick=\"convertToInteractive('df-e548469a-7662-4ad7-a8b1-bb959df892b5')\"\n",
              "              title=\"Convert this dataframe to an interactive table.\"\n",
              "              style=\"display:none;\">\n",
              "        \n",
              "  <svg xmlns=\"http://www.w3.org/2000/svg\" height=\"24px\"viewBox=\"0 0 24 24\"\n",
              "       width=\"24px\">\n",
              "    <path d=\"M0 0h24v24H0V0z\" fill=\"none\"/>\n",
              "    <path d=\"M18.56 5.44l.94 2.06.94-2.06 2.06-.94-2.06-.94-.94-2.06-.94 2.06-2.06.94zm-11 1L8.5 8.5l.94-2.06 2.06-.94-2.06-.94L8.5 2.5l-.94 2.06-2.06.94zm10 10l.94 2.06.94-2.06 2.06-.94-2.06-.94-.94-2.06-.94 2.06-2.06.94z\"/><path d=\"M17.41 7.96l-1.37-1.37c-.4-.4-.92-.59-1.43-.59-.52 0-1.04.2-1.43.59L10.3 9.45l-7.72 7.72c-.78.78-.78 2.05 0 2.83L4 21.41c.39.39.9.59 1.41.59.51 0 1.02-.2 1.41-.59l7.78-7.78 2.81-2.81c.8-.78.8-2.07 0-2.86zM5.41 20L4 18.59l7.72-7.72 1.47 1.35L5.41 20z\"/>\n",
              "  </svg>\n",
              "      </button>\n",
              "      \n",
              "  <style>\n",
              "    .colab-df-container {\n",
              "      display:flex;\n",
              "      flex-wrap:wrap;\n",
              "      gap: 12px;\n",
              "    }\n",
              "\n",
              "    .colab-df-convert {\n",
              "      background-color: #E8F0FE;\n",
              "      border: none;\n",
              "      border-radius: 50%;\n",
              "      cursor: pointer;\n",
              "      display: none;\n",
              "      fill: #1967D2;\n",
              "      height: 32px;\n",
              "      padding: 0 0 0 0;\n",
              "      width: 32px;\n",
              "    }\n",
              "\n",
              "    .colab-df-convert:hover {\n",
              "      background-color: #E2EBFA;\n",
              "      box-shadow: 0px 1px 2px rgba(60, 64, 67, 0.3), 0px 1px 3px 1px rgba(60, 64, 67, 0.15);\n",
              "      fill: #174EA6;\n",
              "    }\n",
              "\n",
              "    [theme=dark] .colab-df-convert {\n",
              "      background-color: #3B4455;\n",
              "      fill: #D2E3FC;\n",
              "    }\n",
              "\n",
              "    [theme=dark] .colab-df-convert:hover {\n",
              "      background-color: #434B5C;\n",
              "      box-shadow: 0px 1px 3px 1px rgba(0, 0, 0, 0.15);\n",
              "      filter: drop-shadow(0px 1px 2px rgba(0, 0, 0, 0.3));\n",
              "      fill: #FFFFFF;\n",
              "    }\n",
              "  </style>\n",
              "\n",
              "      <script>\n",
              "        const buttonEl =\n",
              "          document.querySelector('#df-e548469a-7662-4ad7-a8b1-bb959df892b5 button.colab-df-convert');\n",
              "        buttonEl.style.display =\n",
              "          google.colab.kernel.accessAllowed ? 'block' : 'none';\n",
              "\n",
              "        async function convertToInteractive(key) {\n",
              "          const element = document.querySelector('#df-e548469a-7662-4ad7-a8b1-bb959df892b5');\n",
              "          const dataTable =\n",
              "            await google.colab.kernel.invokeFunction('convertToInteractive',\n",
              "                                                     [key], {});\n",
              "          if (!dataTable) return;\n",
              "\n",
              "          const docLinkHtml = 'Like what you see? Visit the ' +\n",
              "            '<a target=\"_blank\" href=https://colab.research.google.com/notebooks/data_table.ipynb>data table notebook</a>'\n",
              "            + ' to learn more about interactive tables.';\n",
              "          element.innerHTML = '';\n",
              "          dataTable['output_type'] = 'display_data';\n",
              "          await google.colab.output.renderOutput(dataTable, element);\n",
              "          const docLink = document.createElement('div');\n",
              "          docLink.innerHTML = docLinkHtml;\n",
              "          element.appendChild(docLink);\n",
              "        }\n",
              "      </script>\n",
              "    </div>\n",
              "  </div>\n",
              "  "
            ]
          },
          "metadata": {},
          "execution_count": 201
        }
      ]
    },
    {
      "cell_type": "markdown",
      "source": [
        "Change the column which is suitable and and short which is good for reading. "
      ],
      "metadata": {
        "id": "ts7Z2FWUnLMM"
      }
    },
    {
      "cell_type": "code",
      "source": [
        "dataset.columns = ['Name','action','adventure','comedy','crime','drama','fantasy','fiction','horror','mystery','romance','thriller','documentry','animated','watch movies per week','movie prefered','5_adjective']"
      ],
      "metadata": {
        "id": "qqPU2LISqDXi"
      },
      "execution_count": null,
      "outputs": []
    },
    {
      "cell_type": "code",
      "source": [
        "dataset"
      ],
      "metadata": {
        "colab": {
          "base_uri": "https://localhost:8080/",
          "height": 1000
        },
        "id": "4rsu826CvA5u",
        "outputId": "d8eb5e96-e106-4ee6-d5c5-3300dc7c3216"
      },
      "execution_count": null,
      "outputs": [
        {
          "output_type": "execute_result",
          "data": {
            "text/plain": [
              "                      Name  action  adventure  comedy  crime  drama  fantasy  \\\n",
              "0                    Akbar    9.90       9.90     9.8    8.5   5.40      7.9   \n",
              "1                      Ali    6.00       6.00     6.0    5.0   7.00      3.0   \n",
              "2                    Anh T    8.90       7.50     5.1    9.4   6.60      7.2   \n",
              "3         Brandon Inoshita    8.90       9.10     5.6    6.1   1.20      9.3   \n",
              "4            Changhao Dong    4.00       5.40     8.3    6.5   2.30      1.3   \n",
              "5            Clark Blatter    9.80       8.20     8.5    9.0   6.50      6.9   \n",
              "6                  FRANCIS    6.00       8.00    10.0    8.0   5.00      4.0   \n",
              "7                    HARSH   10.00       4.00     8.0   10.0   8.00      7.0   \n",
              "8               Haodong Ma    7.00       6.00     9.0    3.0   1.00      4.0   \n",
              "9                   Harini    9.50       8.90     9.8   10.1   7.90      9.7   \n",
              "10         Jacobson, Brian    5.90       6.90     4.2    9.3   9.50      8.1   \n",
              "11            Jainam, Shah   10.00      10.00    10.0    8.9   2.20      5.9   \n",
              "12               Jay,Patel    7.80       7.90     9.8    3.4   5.60      3.4   \n",
              "13          Jenith Suvagia    9.90       6.90     8.6    8.5   8.40      5.5   \n",
              "14    Mohammed Baleequddin   10.00        NaN     NaN    NaN    NaN      NaN   \n",
              "15    Mohammed Baleequddin    9.00      10.00     9.0    9.0   8.00      8.0   \n",
              "16                 Nayoung    9.99       9.99     9.0    6.5   9.99      7.4   \n",
              "17              Nomondalai   10.00      10.00    10.0   10.0  10.00     10.0   \n",
              "18            Parth Kambli    7.70       7.40     6.9    3.7   2.10      1.1   \n",
              "19             Pavan Reddy    7.00       8.00     9.0    8.5   9.50      5.7   \n",
              "20                Pranjali    8.00       9.00    10.0    7.5   7.00     10.0   \n",
              "21                   Purav    8.00       8.50     9.8    8.9   7.80      7.1   \n",
              "22            Rene Padilla    8.30       5.50     6.9    4.4   2.10      8.8   \n",
              "23          Rutvik Gadhiya   10.00       9.80     8.9    9.3   9.90      9.6   \n",
              "24          Saetbyeol Choi    9.20       8.20     9.5    9.8   7.50      6.5   \n",
              "25      Sanmukh Sain Karri    9.90       9.50     8.9    6.7   7.70      7.5   \n",
              "26           Sanyuja Kadam   10.00       9.80    10.0    8.7   8.50      9.5   \n",
              "27                    Sifa    8.00       9.00     8.0    3.0   8.00      7.0   \n",
              "28               Talantbek    7.00       7.00     9.0    5.0   7.00      7.0   \n",
              "29          Tang, Jonathan    8.20       9.20     9.3    4.5   2.00      3.2   \n",
              "30                Tejender    8.50       9.00     6.5    9.0   1.50      6.0   \n",
              "31               Tim Brice    7.80       8.40     6.4    5.4   4.90      8.5   \n",
              "32       Venkat Patchikura    9.90       8.90     7.8    8.6   8.70      1.1   \n",
              "33                   Wenbo     NaN        NaN     NaN    NaN    NaN      NaN   \n",
              "34                   Wenbo    7.00       6.60     8.0    9.5   2.00      6.0   \n",
              "35            anusha reddy    5.50       6.00     8.5    9.9   9.00     10.0   \n",
              "36      eknath vamsi punna   10.00      10.00     7.0   10.0   1.00      1.0   \n",
              "37                     sai    8.50       9.00    10.0   10.0   6.00      8.9   \n",
              "38                     sai     NaN        NaN     NaN    NaN    NaN      NaN   \n",
              "39  vrushabhkumar shrimali   10.00      10.00    10.0    9.0   6.00      8.0   \n",
              "\n",
              "    fiction  horror  mystery  romance  thriller  documentry  animated  \\\n",
              "0      8.90    9.90     6.90    10.00      9.50        3.80       7.4   \n",
              "1     10.00    3.00     7.00     4.00      5.00        9.00       7.0   \n",
              "2      5.50    4.60     7.70     6.40      9.50        2.20       4.8   \n",
              "3      9.00    6.20     6.30     5.20      8.30        7.20       9.7   \n",
              "4      6.80    7.60     4.50     6.40      3.40        7.50       5.5   \n",
              "5      7.20    4.20     7.40     6.90      7.30        6.50       9.5   \n",
              "6     10.00   10.00     8.00     7.00      6.00        9.00      10.0   \n",
              "7      8.00    3.00    10.00     9.00     10.00        3.00       4.0   \n",
              "8      6.00    8.00     7.00     6.00      8.00        2.00       4.0   \n",
              "9      9.90    5.40     8.60    10.00      9.60        8.70       9.6   \n",
              "10     9.00    7.50     8.10     8.10      8.50       10.00       1.0   \n",
              "11    10.00    9.80     9.50     5.00      9.50        9.20       9.9   \n",
              "12     9.80    5.40     7.80     4.50      9.80        5.60       6.7   \n",
              "13     8.30    9.90     8.30     4.30      8.50        3.20       7.6   \n",
              "14      NaN     NaN      NaN      NaN       NaN         NaN       NaN   \n",
              "15     8.00   10.00    10.00    10.00     10.00        7.00       5.0   \n",
              "16     7.60    1.10     5.50     8.90      7.10        4.10       1.1   \n",
              "17    10.00   10.00    10.00    10.00     10.00        8.00       8.0   \n",
              "18     8.90    6.90     5.40     3.10      9.60       10.00      10.0   \n",
              "19     6.50    8.50     9.00     7.50      9.50        9.00       3.5   \n",
              "20     9.50   10.00     9.50     8.50      9.00        7.00       7.5   \n",
              "21     8.40    9.90     9.70     8.20      9.80        6.60       7.6   \n",
              "22     9.90    7.40     7.30     5.50      7.50        9.21       3.5   \n",
              "23    10.00    9.50     7.80     8.70      9.90        6.80       9.3   \n",
              "24     6.20    2.50     7.80     5.50      8.80        5.20       1.5   \n",
              "25     8.10    8.10     8.70    10.00      8.90        4.50      10.0   \n",
              "26     9.50    4.30     9.80     7.50      9.80        8.60      10.0   \n",
              "27     9.00    1.00     8.00     7.00      8.00        4.00       6.0   \n",
              "28     6.00    1.00     8.00     8.00      4.00        6.00       9.0   \n",
              "29     5.00    1.00     7.50     8.80      6.60        9.90       9.9   \n",
              "30     9.50    5.00     8.00     3.00      7.00        6.50       6.5   \n",
              "31     9.20    3.50     6.10     4.50      5.70        3.90       7.9   \n",
              "32     6.66    9.99     8.88     2.22      6.56        5.50       6.6   \n",
              "33      NaN     NaN      NaN      NaN       NaN         NaN       NaN   \n",
              "34     4.50    5.00     5.00     5.00      5.00        8.00       8.7   \n",
              "35     8.50   10.00     9.50     8.50      9.10        5.10       7.5   \n",
              "36    10.00    5.00    10.00     0.10     10.00        0.10       0.2   \n",
              "37     9.00    2.00     7.80     8.00      7.50        6.00      10.0   \n",
              "38      NaN    9.00    10.00      NaN       NaN         NaN       NaN   \n",
              "39     6.00    9.00    10.00     1.00      6.00        3.00      10.0   \n",
              "\n",
              "                                watch movies per week  \\\n",
              "0                   D. 4) Three to four movies a week   \n",
              "1                              B. 2) One movie a week   \n",
              "2                   D. 4) Three to four movies a week   \n",
              "3                             C. 3) Two movies a week   \n",
              "4             A. 1) zero movies. I don't watch movies   \n",
              "5                              B. 2) One movie a week   \n",
              "6             A. 1) zero movies. I don't watch movies   \n",
              "7                              B. 2) One movie a week   \n",
              "8                             C. 3) Two movies a week   \n",
              "9                             C. 3) Two movies a week   \n",
              "10                             B. 2) One movie a week   \n",
              "11  D. 4) Three to four movies a week\\nE. 5) More ...   \n",
              "12                            C. 3) Two movies a week   \n",
              "13                             B. 2) One movie a week   \n",
              "14                                                NaN   \n",
              "15                            C. 3) Two movies a week   \n",
              "16                             B. 2) One movie a week   \n",
              "17                            C. 3) Two movies a week   \n",
              "18            A. 1) zero movies. I don't watch movies   \n",
              "19                             B. 2) One movie a week   \n",
              "20                             B. 2) One movie a week   \n",
              "21                             B. 2) One movie a week   \n",
              "22                             B. 2) One movie a week   \n",
              "23                             B. 2) One movie a week   \n",
              "24            A. 1) zero movies. I don't watch movies   \n",
              "25                             B. 2) One movie a week   \n",
              "26                    E. 5) More than 4 movies a week   \n",
              "27                    E. 5) More than 4 movies a week   \n",
              "28                             B. 2) One movie a week   \n",
              "29            A. 1) zero movies. I don't watch movies   \n",
              "30                             B. 2) One movie a week   \n",
              "31                  D. 4) Three to four movies a week   \n",
              "32                    E. 5) More than 4 movies a week   \n",
              "33                                                NaN   \n",
              "34                             B. 2) One movie a week   \n",
              "35                             B. 2) One movie a week   \n",
              "36                    E. 5) More than 4 movies a week   \n",
              "37                             B. 2) One movie a week   \n",
              "38                                                NaN   \n",
              "39                             B. 2) One movie a week   \n",
              "\n",
              "                                       movie prefered  \\\n",
              "0                                        D. Spiderman   \n",
              "1                              A. Star Wars\\nE. Mulan   \n",
              "2                                        D. Spiderman   \n",
              "3                                        A. Star Wars   \n",
              "4                                        C. Gladiator   \n",
              "5                                            B. Shrek   \n",
              "6                                            B. Shrek   \n",
              "7                                            B. Shrek   \n",
              "8                                        D. Spiderman   \n",
              "9                                    G. Jurassic Park   \n",
              "10                     C. Gladiator\\nG. Jurassic Park   \n",
              "11                                       A. Star Wars   \n",
              "12                                       A. Star Wars   \n",
              "13                                   G. Jurassic Park   \n",
              "14                                                NaN   \n",
              "15                         E. Mulan\\nG. Jurassic Park   \n",
              "16                                   G. Jurassic Park   \n",
              "17                                           B. Shrek   \n",
              "18                                       A. Star Wars   \n",
              "19                                       C. Gladiator   \n",
              "20  B. Shrek\\nC. Gladiator\\nD. Spiderman\\nG. Juras...   \n",
              "21                                       D. Spiderman   \n",
              "22                                       D. Spiderman   \n",
              "23                                       D. Spiderman   \n",
              "24                                       D. Spiderman   \n",
              "25                                           B. Shrek   \n",
              "26                                       A. Star Wars   \n",
              "27       A. Star Wars\\nC. Gladiator\\nG. Jurassic Park   \n",
              "28                                       C. Gladiator   \n",
              "29                                       A. Star Wars   \n",
              "30                                   G. Jurassic Park   \n",
              "31                                       A. Star Wars   \n",
              "32                                   G. Jurassic Park   \n",
              "33                                                NaN   \n",
              "34                                   G. Jurassic Park   \n",
              "35                     D. Spiderman\\nG. Jurassic Park   \n",
              "36                     D. Spiderman\\nG. Jurassic Park   \n",
              "37                                       C. Gladiator   \n",
              "38                                                NaN   \n",
              "39  B. Shrek\\nD. Spiderman\\nE. Mulan\\nG. Jurassic ...   \n",
              "\n",
              "                                          5_adjective  \n",
              "0            Sociable\\nFriendly\\nchatty\\nloyal\\nHappy  \n",
              "1   Motivated, Reliable, Intuitive, Independent, A...  \n",
              "2    - Quiet\\n- Introverted\\n- Happy\\n- Slow\\n- Funny  \n",
              "3        -Slow\\n-Anxious\\n-Awkward\\n-Happy\\n-Diligent  \n",
              "4         - Cocky\\n- Happy\\n- Young\\n- Tender\\n- Slow  \n",
              "5   - Dedicated\\n- Handsome\\n- Disciplined\\n- Unde...  \n",
              "6                                             Capable  \n",
              "7   I am hard-working,energetic,honest,creative,op...  \n",
              "8             Calm\\nfast\\nfriendly\\ncool\\ninteresting  \n",
              "9                  Happy\\nKind\\nFunny\\nCharming\\nFast  \n",
              "10  - Funny\\n- Assertive\\n- Confident\\n- Structure...  \n",
              "11    capable\\nfriendly \\ncaring\\ncreative\\nproactive  \n",
              "12  1.Fearless\\n2.Practical\\n3.Energetic\\n4.Truthf...  \n",
              "13    - Brave\\n- Helpful\\n- Kind\\n- Friendly\\n- proud  \n",
              "14                                                NaN  \n",
              "15  - Capable\\n\\n- Friendly\\n\\n- Happy\\n\\n- Sociab...  \n",
              "16  - Bubbly \\n- Friendly\\n- Outgoing\\n- Emotional...  \n",
              "17                   - Strong\\n- Free \\n- Intelligent  \n",
              "18         Dependable\\nKind\\nJoyful\\nTrustworthy\\nFun  \n",
              "19   Friendly\\nIndisciplined\\nEasygoing\\nKind\\nHonest  \n",
              "20  Friendly\\nOrganised\\nUnderstanding\\nEmotional\\...  \n",
              "21    delightful\\nhilarious\\nalert\\ncautious\\ncurious  \n",
              "22   - Focused\\n- Funny\\n- Chill\\n- Happy\\n- Outgoing  \n",
              "23            Friendly\\nhumble\\nsocial\\nactive\\nBrave  \n",
              "24  - Chill\\n- Calm\\n- Positive\\n- Thoughtful\\n- R...  \n",
              "25  Capable : I am ambitious and driven. I thrive ...  \n",
              "26  -Adventurous \\n- Funny\\n- Happy\\n-Considerate\\...  \n",
              "27              Friendly, curious, direct, kind, true  \n",
              "28  -Kind\\n-Responsible\\n-Hard worker\\n-Polite\\n-F...  \n",
              "29                   Happy, Relaxed, Lazy, Slow, Tall  \n",
              "30  -Diligent\\n-Kind-hearted\\n-Easy-going\\n-Ambiti...  \n",
              "31  Resourceful\\nPersistant\\nConsiderate\\nLoyal\\nR...  \n",
              "32    -Fast\\n-Motivated\\n-Social\\n-Friendly\\n-Focused  \n",
              "33                                                NaN  \n",
              "34  - Slow\\n- Smile\\n- Joking\\n- Self-joking\\n- in...  \n",
              "35  Ambitious\\nSociable\\nNight Owl\\nFriendly\\nEasy...  \n",
              "36  -Punctual\\n-quick\\n-aggressive\\n-happy\\n-self-...  \n",
              "37   calm\\ndedicated \\nambivert\\nreligious \\nthankful  \n",
              "38                                                NaN  \n",
              "39      Friendly,\\nStrong,\\nGood,\\nSociable,\\nCapable  "
            ],
            "text/html": [
              "\n",
              "  <div id=\"df-ed9b545f-13de-4cb8-8ecc-19557fd6a8cf\">\n",
              "    <div class=\"colab-df-container\">\n",
              "      <div>\n",
              "<style scoped>\n",
              "    .dataframe tbody tr th:only-of-type {\n",
              "        vertical-align: middle;\n",
              "    }\n",
              "\n",
              "    .dataframe tbody tr th {\n",
              "        vertical-align: top;\n",
              "    }\n",
              "\n",
              "    .dataframe thead th {\n",
              "        text-align: right;\n",
              "    }\n",
              "</style>\n",
              "<table border=\"1\" class=\"dataframe\">\n",
              "  <thead>\n",
              "    <tr style=\"text-align: right;\">\n",
              "      <th></th>\n",
              "      <th>Name</th>\n",
              "      <th>action</th>\n",
              "      <th>adventure</th>\n",
              "      <th>comedy</th>\n",
              "      <th>crime</th>\n",
              "      <th>drama</th>\n",
              "      <th>fantasy</th>\n",
              "      <th>fiction</th>\n",
              "      <th>horror</th>\n",
              "      <th>mystery</th>\n",
              "      <th>romance</th>\n",
              "      <th>thriller</th>\n",
              "      <th>documentry</th>\n",
              "      <th>animated</th>\n",
              "      <th>watch movies per week</th>\n",
              "      <th>movie prefered</th>\n",
              "      <th>5_adjective</th>\n",
              "    </tr>\n",
              "  </thead>\n",
              "  <tbody>\n",
              "    <tr>\n",
              "      <th>0</th>\n",
              "      <td>Akbar</td>\n",
              "      <td>9.90</td>\n",
              "      <td>9.90</td>\n",
              "      <td>9.8</td>\n",
              "      <td>8.5</td>\n",
              "      <td>5.40</td>\n",
              "      <td>7.9</td>\n",
              "      <td>8.90</td>\n",
              "      <td>9.90</td>\n",
              "      <td>6.90</td>\n",
              "      <td>10.00</td>\n",
              "      <td>9.50</td>\n",
              "      <td>3.80</td>\n",
              "      <td>7.4</td>\n",
              "      <td>D. 4) Three to four movies a week</td>\n",
              "      <td>D. Spiderman</td>\n",
              "      <td>Sociable\\nFriendly\\nchatty\\nloyal\\nHappy</td>\n",
              "    </tr>\n",
              "    <tr>\n",
              "      <th>1</th>\n",
              "      <td>Ali</td>\n",
              "      <td>6.00</td>\n",
              "      <td>6.00</td>\n",
              "      <td>6.0</td>\n",
              "      <td>5.0</td>\n",
              "      <td>7.00</td>\n",
              "      <td>3.0</td>\n",
              "      <td>10.00</td>\n",
              "      <td>3.00</td>\n",
              "      <td>7.00</td>\n",
              "      <td>4.00</td>\n",
              "      <td>5.00</td>\n",
              "      <td>9.00</td>\n",
              "      <td>7.0</td>\n",
              "      <td>B. 2) One movie a week</td>\n",
              "      <td>A. Star Wars\\nE. Mulan</td>\n",
              "      <td>Motivated, Reliable, Intuitive, Independent, A...</td>\n",
              "    </tr>\n",
              "    <tr>\n",
              "      <th>2</th>\n",
              "      <td>Anh T</td>\n",
              "      <td>8.90</td>\n",
              "      <td>7.50</td>\n",
              "      <td>5.1</td>\n",
              "      <td>9.4</td>\n",
              "      <td>6.60</td>\n",
              "      <td>7.2</td>\n",
              "      <td>5.50</td>\n",
              "      <td>4.60</td>\n",
              "      <td>7.70</td>\n",
              "      <td>6.40</td>\n",
              "      <td>9.50</td>\n",
              "      <td>2.20</td>\n",
              "      <td>4.8</td>\n",
              "      <td>D. 4) Three to four movies a week</td>\n",
              "      <td>D. Spiderman</td>\n",
              "      <td>- Quiet\\n- Introverted\\n- Happy\\n- Slow\\n- Funny</td>\n",
              "    </tr>\n",
              "    <tr>\n",
              "      <th>3</th>\n",
              "      <td>Brandon Inoshita</td>\n",
              "      <td>8.90</td>\n",
              "      <td>9.10</td>\n",
              "      <td>5.6</td>\n",
              "      <td>6.1</td>\n",
              "      <td>1.20</td>\n",
              "      <td>9.3</td>\n",
              "      <td>9.00</td>\n",
              "      <td>6.20</td>\n",
              "      <td>6.30</td>\n",
              "      <td>5.20</td>\n",
              "      <td>8.30</td>\n",
              "      <td>7.20</td>\n",
              "      <td>9.7</td>\n",
              "      <td>C. 3) Two movies a week</td>\n",
              "      <td>A. Star Wars</td>\n",
              "      <td>-Slow\\n-Anxious\\n-Awkward\\n-Happy\\n-Diligent</td>\n",
              "    </tr>\n",
              "    <tr>\n",
              "      <th>4</th>\n",
              "      <td>Changhao Dong</td>\n",
              "      <td>4.00</td>\n",
              "      <td>5.40</td>\n",
              "      <td>8.3</td>\n",
              "      <td>6.5</td>\n",
              "      <td>2.30</td>\n",
              "      <td>1.3</td>\n",
              "      <td>6.80</td>\n",
              "      <td>7.60</td>\n",
              "      <td>4.50</td>\n",
              "      <td>6.40</td>\n",
              "      <td>3.40</td>\n",
              "      <td>7.50</td>\n",
              "      <td>5.5</td>\n",
              "      <td>A. 1) zero movies. I don't watch movies</td>\n",
              "      <td>C. Gladiator</td>\n",
              "      <td>- Cocky\\n- Happy\\n- Young\\n- Tender\\n- Slow</td>\n",
              "    </tr>\n",
              "    <tr>\n",
              "      <th>5</th>\n",
              "      <td>Clark Blatter</td>\n",
              "      <td>9.80</td>\n",
              "      <td>8.20</td>\n",
              "      <td>8.5</td>\n",
              "      <td>9.0</td>\n",
              "      <td>6.50</td>\n",
              "      <td>6.9</td>\n",
              "      <td>7.20</td>\n",
              "      <td>4.20</td>\n",
              "      <td>7.40</td>\n",
              "      <td>6.90</td>\n",
              "      <td>7.30</td>\n",
              "      <td>6.50</td>\n",
              "      <td>9.5</td>\n",
              "      <td>B. 2) One movie a week</td>\n",
              "      <td>B. Shrek</td>\n",
              "      <td>- Dedicated\\n- Handsome\\n- Disciplined\\n- Unde...</td>\n",
              "    </tr>\n",
              "    <tr>\n",
              "      <th>6</th>\n",
              "      <td>FRANCIS</td>\n",
              "      <td>6.00</td>\n",
              "      <td>8.00</td>\n",
              "      <td>10.0</td>\n",
              "      <td>8.0</td>\n",
              "      <td>5.00</td>\n",
              "      <td>4.0</td>\n",
              "      <td>10.00</td>\n",
              "      <td>10.00</td>\n",
              "      <td>8.00</td>\n",
              "      <td>7.00</td>\n",
              "      <td>6.00</td>\n",
              "      <td>9.00</td>\n",
              "      <td>10.0</td>\n",
              "      <td>A. 1) zero movies. I don't watch movies</td>\n",
              "      <td>B. Shrek</td>\n",
              "      <td>Capable</td>\n",
              "    </tr>\n",
              "    <tr>\n",
              "      <th>7</th>\n",
              "      <td>HARSH</td>\n",
              "      <td>10.00</td>\n",
              "      <td>4.00</td>\n",
              "      <td>8.0</td>\n",
              "      <td>10.0</td>\n",
              "      <td>8.00</td>\n",
              "      <td>7.0</td>\n",
              "      <td>8.00</td>\n",
              "      <td>3.00</td>\n",
              "      <td>10.00</td>\n",
              "      <td>9.00</td>\n",
              "      <td>10.00</td>\n",
              "      <td>3.00</td>\n",
              "      <td>4.0</td>\n",
              "      <td>B. 2) One movie a week</td>\n",
              "      <td>B. Shrek</td>\n",
              "      <td>I am hard-working,energetic,honest,creative,op...</td>\n",
              "    </tr>\n",
              "    <tr>\n",
              "      <th>8</th>\n",
              "      <td>Haodong Ma</td>\n",
              "      <td>7.00</td>\n",
              "      <td>6.00</td>\n",
              "      <td>9.0</td>\n",
              "      <td>3.0</td>\n",
              "      <td>1.00</td>\n",
              "      <td>4.0</td>\n",
              "      <td>6.00</td>\n",
              "      <td>8.00</td>\n",
              "      <td>7.00</td>\n",
              "      <td>6.00</td>\n",
              "      <td>8.00</td>\n",
              "      <td>2.00</td>\n",
              "      <td>4.0</td>\n",
              "      <td>C. 3) Two movies a week</td>\n",
              "      <td>D. Spiderman</td>\n",
              "      <td>Calm\\nfast\\nfriendly\\ncool\\ninteresting</td>\n",
              "    </tr>\n",
              "    <tr>\n",
              "      <th>9</th>\n",
              "      <td>Harini</td>\n",
              "      <td>9.50</td>\n",
              "      <td>8.90</td>\n",
              "      <td>9.8</td>\n",
              "      <td>10.1</td>\n",
              "      <td>7.90</td>\n",
              "      <td>9.7</td>\n",
              "      <td>9.90</td>\n",
              "      <td>5.40</td>\n",
              "      <td>8.60</td>\n",
              "      <td>10.00</td>\n",
              "      <td>9.60</td>\n",
              "      <td>8.70</td>\n",
              "      <td>9.6</td>\n",
              "      <td>C. 3) Two movies a week</td>\n",
              "      <td>G. Jurassic Park</td>\n",
              "      <td>Happy\\nKind\\nFunny\\nCharming\\nFast</td>\n",
              "    </tr>\n",
              "    <tr>\n",
              "      <th>10</th>\n",
              "      <td>Jacobson, Brian</td>\n",
              "      <td>5.90</td>\n",
              "      <td>6.90</td>\n",
              "      <td>4.2</td>\n",
              "      <td>9.3</td>\n",
              "      <td>9.50</td>\n",
              "      <td>8.1</td>\n",
              "      <td>9.00</td>\n",
              "      <td>7.50</td>\n",
              "      <td>8.10</td>\n",
              "      <td>8.10</td>\n",
              "      <td>8.50</td>\n",
              "      <td>10.00</td>\n",
              "      <td>1.0</td>\n",
              "      <td>B. 2) One movie a week</td>\n",
              "      <td>C. Gladiator\\nG. Jurassic Park</td>\n",
              "      <td>- Funny\\n- Assertive\\n- Confident\\n- Structure...</td>\n",
              "    </tr>\n",
              "    <tr>\n",
              "      <th>11</th>\n",
              "      <td>Jainam, Shah</td>\n",
              "      <td>10.00</td>\n",
              "      <td>10.00</td>\n",
              "      <td>10.0</td>\n",
              "      <td>8.9</td>\n",
              "      <td>2.20</td>\n",
              "      <td>5.9</td>\n",
              "      <td>10.00</td>\n",
              "      <td>9.80</td>\n",
              "      <td>9.50</td>\n",
              "      <td>5.00</td>\n",
              "      <td>9.50</td>\n",
              "      <td>9.20</td>\n",
              "      <td>9.9</td>\n",
              "      <td>D. 4) Three to four movies a week\\nE. 5) More ...</td>\n",
              "      <td>A. Star Wars</td>\n",
              "      <td>capable\\nfriendly \\ncaring\\ncreative\\nproactive</td>\n",
              "    </tr>\n",
              "    <tr>\n",
              "      <th>12</th>\n",
              "      <td>Jay,Patel</td>\n",
              "      <td>7.80</td>\n",
              "      <td>7.90</td>\n",
              "      <td>9.8</td>\n",
              "      <td>3.4</td>\n",
              "      <td>5.60</td>\n",
              "      <td>3.4</td>\n",
              "      <td>9.80</td>\n",
              "      <td>5.40</td>\n",
              "      <td>7.80</td>\n",
              "      <td>4.50</td>\n",
              "      <td>9.80</td>\n",
              "      <td>5.60</td>\n",
              "      <td>6.7</td>\n",
              "      <td>C. 3) Two movies a week</td>\n",
              "      <td>A. Star Wars</td>\n",
              "      <td>1.Fearless\\n2.Practical\\n3.Energetic\\n4.Truthf...</td>\n",
              "    </tr>\n",
              "    <tr>\n",
              "      <th>13</th>\n",
              "      <td>Jenith Suvagia</td>\n",
              "      <td>9.90</td>\n",
              "      <td>6.90</td>\n",
              "      <td>8.6</td>\n",
              "      <td>8.5</td>\n",
              "      <td>8.40</td>\n",
              "      <td>5.5</td>\n",
              "      <td>8.30</td>\n",
              "      <td>9.90</td>\n",
              "      <td>8.30</td>\n",
              "      <td>4.30</td>\n",
              "      <td>8.50</td>\n",
              "      <td>3.20</td>\n",
              "      <td>7.6</td>\n",
              "      <td>B. 2) One movie a week</td>\n",
              "      <td>G. Jurassic Park</td>\n",
              "      <td>- Brave\\n- Helpful\\n- Kind\\n- Friendly\\n- proud</td>\n",
              "    </tr>\n",
              "    <tr>\n",
              "      <th>14</th>\n",
              "      <td>Mohammed Baleequddin</td>\n",
              "      <td>10.00</td>\n",
              "      <td>NaN</td>\n",
              "      <td>NaN</td>\n",
              "      <td>NaN</td>\n",
              "      <td>NaN</td>\n",
              "      <td>NaN</td>\n",
              "      <td>NaN</td>\n",
              "      <td>NaN</td>\n",
              "      <td>NaN</td>\n",
              "      <td>NaN</td>\n",
              "      <td>NaN</td>\n",
              "      <td>NaN</td>\n",
              "      <td>NaN</td>\n",
              "      <td>NaN</td>\n",
              "      <td>NaN</td>\n",
              "      <td>NaN</td>\n",
              "    </tr>\n",
              "    <tr>\n",
              "      <th>15</th>\n",
              "      <td>Mohammed Baleequddin</td>\n",
              "      <td>9.00</td>\n",
              "      <td>10.00</td>\n",
              "      <td>9.0</td>\n",
              "      <td>9.0</td>\n",
              "      <td>8.00</td>\n",
              "      <td>8.0</td>\n",
              "      <td>8.00</td>\n",
              "      <td>10.00</td>\n",
              "      <td>10.00</td>\n",
              "      <td>10.00</td>\n",
              "      <td>10.00</td>\n",
              "      <td>7.00</td>\n",
              "      <td>5.0</td>\n",
              "      <td>C. 3) Two movies a week</td>\n",
              "      <td>E. Mulan\\nG. Jurassic Park</td>\n",
              "      <td>- Capable\\n\\n- Friendly\\n\\n- Happy\\n\\n- Sociab...</td>\n",
              "    </tr>\n",
              "    <tr>\n",
              "      <th>16</th>\n",
              "      <td>Nayoung</td>\n",
              "      <td>9.99</td>\n",
              "      <td>9.99</td>\n",
              "      <td>9.0</td>\n",
              "      <td>6.5</td>\n",
              "      <td>9.99</td>\n",
              "      <td>7.4</td>\n",
              "      <td>7.60</td>\n",
              "      <td>1.10</td>\n",
              "      <td>5.50</td>\n",
              "      <td>8.90</td>\n",
              "      <td>7.10</td>\n",
              "      <td>4.10</td>\n",
              "      <td>1.1</td>\n",
              "      <td>B. 2) One movie a week</td>\n",
              "      <td>G. Jurassic Park</td>\n",
              "      <td>- Bubbly \\n- Friendly\\n- Outgoing\\n- Emotional...</td>\n",
              "    </tr>\n",
              "    <tr>\n",
              "      <th>17</th>\n",
              "      <td>Nomondalai</td>\n",
              "      <td>10.00</td>\n",
              "      <td>10.00</td>\n",
              "      <td>10.0</td>\n",
              "      <td>10.0</td>\n",
              "      <td>10.00</td>\n",
              "      <td>10.0</td>\n",
              "      <td>10.00</td>\n",
              "      <td>10.00</td>\n",
              "      <td>10.00</td>\n",
              "      <td>10.00</td>\n",
              "      <td>10.00</td>\n",
              "      <td>8.00</td>\n",
              "      <td>8.0</td>\n",
              "      <td>C. 3) Two movies a week</td>\n",
              "      <td>B. Shrek</td>\n",
              "      <td>- Strong\\n- Free \\n- Intelligent</td>\n",
              "    </tr>\n",
              "    <tr>\n",
              "      <th>18</th>\n",
              "      <td>Parth Kambli</td>\n",
              "      <td>7.70</td>\n",
              "      <td>7.40</td>\n",
              "      <td>6.9</td>\n",
              "      <td>3.7</td>\n",
              "      <td>2.10</td>\n",
              "      <td>1.1</td>\n",
              "      <td>8.90</td>\n",
              "      <td>6.90</td>\n",
              "      <td>5.40</td>\n",
              "      <td>3.10</td>\n",
              "      <td>9.60</td>\n",
              "      <td>10.00</td>\n",
              "      <td>10.0</td>\n",
              "      <td>A. 1) zero movies. I don't watch movies</td>\n",
              "      <td>A. Star Wars</td>\n",
              "      <td>Dependable\\nKind\\nJoyful\\nTrustworthy\\nFun</td>\n",
              "    </tr>\n",
              "    <tr>\n",
              "      <th>19</th>\n",
              "      <td>Pavan Reddy</td>\n",
              "      <td>7.00</td>\n",
              "      <td>8.00</td>\n",
              "      <td>9.0</td>\n",
              "      <td>8.5</td>\n",
              "      <td>9.50</td>\n",
              "      <td>5.7</td>\n",
              "      <td>6.50</td>\n",
              "      <td>8.50</td>\n",
              "      <td>9.00</td>\n",
              "      <td>7.50</td>\n",
              "      <td>9.50</td>\n",
              "      <td>9.00</td>\n",
              "      <td>3.5</td>\n",
              "      <td>B. 2) One movie a week</td>\n",
              "      <td>C. Gladiator</td>\n",
              "      <td>Friendly\\nIndisciplined\\nEasygoing\\nKind\\nHonest</td>\n",
              "    </tr>\n",
              "    <tr>\n",
              "      <th>20</th>\n",
              "      <td>Pranjali</td>\n",
              "      <td>8.00</td>\n",
              "      <td>9.00</td>\n",
              "      <td>10.0</td>\n",
              "      <td>7.5</td>\n",
              "      <td>7.00</td>\n",
              "      <td>10.0</td>\n",
              "      <td>9.50</td>\n",
              "      <td>10.00</td>\n",
              "      <td>9.50</td>\n",
              "      <td>8.50</td>\n",
              "      <td>9.00</td>\n",
              "      <td>7.00</td>\n",
              "      <td>7.5</td>\n",
              "      <td>B. 2) One movie a week</td>\n",
              "      <td>B. Shrek\\nC. Gladiator\\nD. Spiderman\\nG. Juras...</td>\n",
              "      <td>Friendly\\nOrganised\\nUnderstanding\\nEmotional\\...</td>\n",
              "    </tr>\n",
              "    <tr>\n",
              "      <th>21</th>\n",
              "      <td>Purav</td>\n",
              "      <td>8.00</td>\n",
              "      <td>8.50</td>\n",
              "      <td>9.8</td>\n",
              "      <td>8.9</td>\n",
              "      <td>7.80</td>\n",
              "      <td>7.1</td>\n",
              "      <td>8.40</td>\n",
              "      <td>9.90</td>\n",
              "      <td>9.70</td>\n",
              "      <td>8.20</td>\n",
              "      <td>9.80</td>\n",
              "      <td>6.60</td>\n",
              "      <td>7.6</td>\n",
              "      <td>B. 2) One movie a week</td>\n",
              "      <td>D. Spiderman</td>\n",
              "      <td>delightful\\nhilarious\\nalert\\ncautious\\ncurious</td>\n",
              "    </tr>\n",
              "    <tr>\n",
              "      <th>22</th>\n",
              "      <td>Rene Padilla</td>\n",
              "      <td>8.30</td>\n",
              "      <td>5.50</td>\n",
              "      <td>6.9</td>\n",
              "      <td>4.4</td>\n",
              "      <td>2.10</td>\n",
              "      <td>8.8</td>\n",
              "      <td>9.90</td>\n",
              "      <td>7.40</td>\n",
              "      <td>7.30</td>\n",
              "      <td>5.50</td>\n",
              "      <td>7.50</td>\n",
              "      <td>9.21</td>\n",
              "      <td>3.5</td>\n",
              "      <td>B. 2) One movie a week</td>\n",
              "      <td>D. Spiderman</td>\n",
              "      <td>- Focused\\n- Funny\\n- Chill\\n- Happy\\n- Outgoing</td>\n",
              "    </tr>\n",
              "    <tr>\n",
              "      <th>23</th>\n",
              "      <td>Rutvik Gadhiya</td>\n",
              "      <td>10.00</td>\n",
              "      <td>9.80</td>\n",
              "      <td>8.9</td>\n",
              "      <td>9.3</td>\n",
              "      <td>9.90</td>\n",
              "      <td>9.6</td>\n",
              "      <td>10.00</td>\n",
              "      <td>9.50</td>\n",
              "      <td>7.80</td>\n",
              "      <td>8.70</td>\n",
              "      <td>9.90</td>\n",
              "      <td>6.80</td>\n",
              "      <td>9.3</td>\n",
              "      <td>B. 2) One movie a week</td>\n",
              "      <td>D. Spiderman</td>\n",
              "      <td>Friendly\\nhumble\\nsocial\\nactive\\nBrave</td>\n",
              "    </tr>\n",
              "    <tr>\n",
              "      <th>24</th>\n",
              "      <td>Saetbyeol Choi</td>\n",
              "      <td>9.20</td>\n",
              "      <td>8.20</td>\n",
              "      <td>9.5</td>\n",
              "      <td>9.8</td>\n",
              "      <td>7.50</td>\n",
              "      <td>6.5</td>\n",
              "      <td>6.20</td>\n",
              "      <td>2.50</td>\n",
              "      <td>7.80</td>\n",
              "      <td>5.50</td>\n",
              "      <td>8.80</td>\n",
              "      <td>5.20</td>\n",
              "      <td>1.5</td>\n",
              "      <td>A. 1) zero movies. I don't watch movies</td>\n",
              "      <td>D. Spiderman</td>\n",
              "      <td>- Chill\\n- Calm\\n- Positive\\n- Thoughtful\\n- R...</td>\n",
              "    </tr>\n",
              "    <tr>\n",
              "      <th>25</th>\n",
              "      <td>Sanmukh Sain Karri</td>\n",
              "      <td>9.90</td>\n",
              "      <td>9.50</td>\n",
              "      <td>8.9</td>\n",
              "      <td>6.7</td>\n",
              "      <td>7.70</td>\n",
              "      <td>7.5</td>\n",
              "      <td>8.10</td>\n",
              "      <td>8.10</td>\n",
              "      <td>8.70</td>\n",
              "      <td>10.00</td>\n",
              "      <td>8.90</td>\n",
              "      <td>4.50</td>\n",
              "      <td>10.0</td>\n",
              "      <td>B. 2) One movie a week</td>\n",
              "      <td>B. Shrek</td>\n",
              "      <td>Capable : I am ambitious and driven. I thrive ...</td>\n",
              "    </tr>\n",
              "    <tr>\n",
              "      <th>26</th>\n",
              "      <td>Sanyuja Kadam</td>\n",
              "      <td>10.00</td>\n",
              "      <td>9.80</td>\n",
              "      <td>10.0</td>\n",
              "      <td>8.7</td>\n",
              "      <td>8.50</td>\n",
              "      <td>9.5</td>\n",
              "      <td>9.50</td>\n",
              "      <td>4.30</td>\n",
              "      <td>9.80</td>\n",
              "      <td>7.50</td>\n",
              "      <td>9.80</td>\n",
              "      <td>8.60</td>\n",
              "      <td>10.0</td>\n",
              "      <td>E. 5) More than 4 movies a week</td>\n",
              "      <td>A. Star Wars</td>\n",
              "      <td>-Adventurous \\n- Funny\\n- Happy\\n-Considerate\\...</td>\n",
              "    </tr>\n",
              "    <tr>\n",
              "      <th>27</th>\n",
              "      <td>Sifa</td>\n",
              "      <td>8.00</td>\n",
              "      <td>9.00</td>\n",
              "      <td>8.0</td>\n",
              "      <td>3.0</td>\n",
              "      <td>8.00</td>\n",
              "      <td>7.0</td>\n",
              "      <td>9.00</td>\n",
              "      <td>1.00</td>\n",
              "      <td>8.00</td>\n",
              "      <td>7.00</td>\n",
              "      <td>8.00</td>\n",
              "      <td>4.00</td>\n",
              "      <td>6.0</td>\n",
              "      <td>E. 5) More than 4 movies a week</td>\n",
              "      <td>A. Star Wars\\nC. Gladiator\\nG. Jurassic Park</td>\n",
              "      <td>Friendly, curious, direct, kind, true</td>\n",
              "    </tr>\n",
              "    <tr>\n",
              "      <th>28</th>\n",
              "      <td>Talantbek</td>\n",
              "      <td>7.00</td>\n",
              "      <td>7.00</td>\n",
              "      <td>9.0</td>\n",
              "      <td>5.0</td>\n",
              "      <td>7.00</td>\n",
              "      <td>7.0</td>\n",
              "      <td>6.00</td>\n",
              "      <td>1.00</td>\n",
              "      <td>8.00</td>\n",
              "      <td>8.00</td>\n",
              "      <td>4.00</td>\n",
              "      <td>6.00</td>\n",
              "      <td>9.0</td>\n",
              "      <td>B. 2) One movie a week</td>\n",
              "      <td>C. Gladiator</td>\n",
              "      <td>-Kind\\n-Responsible\\n-Hard worker\\n-Polite\\n-F...</td>\n",
              "    </tr>\n",
              "    <tr>\n",
              "      <th>29</th>\n",
              "      <td>Tang, Jonathan</td>\n",
              "      <td>8.20</td>\n",
              "      <td>9.20</td>\n",
              "      <td>9.3</td>\n",
              "      <td>4.5</td>\n",
              "      <td>2.00</td>\n",
              "      <td>3.2</td>\n",
              "      <td>5.00</td>\n",
              "      <td>1.00</td>\n",
              "      <td>7.50</td>\n",
              "      <td>8.80</td>\n",
              "      <td>6.60</td>\n",
              "      <td>9.90</td>\n",
              "      <td>9.9</td>\n",
              "      <td>A. 1) zero movies. I don't watch movies</td>\n",
              "      <td>A. Star Wars</td>\n",
              "      <td>Happy, Relaxed, Lazy, Slow, Tall</td>\n",
              "    </tr>\n",
              "    <tr>\n",
              "      <th>30</th>\n",
              "      <td>Tejender</td>\n",
              "      <td>8.50</td>\n",
              "      <td>9.00</td>\n",
              "      <td>6.5</td>\n",
              "      <td>9.0</td>\n",
              "      <td>1.50</td>\n",
              "      <td>6.0</td>\n",
              "      <td>9.50</td>\n",
              "      <td>5.00</td>\n",
              "      <td>8.00</td>\n",
              "      <td>3.00</td>\n",
              "      <td>7.00</td>\n",
              "      <td>6.50</td>\n",
              "      <td>6.5</td>\n",
              "      <td>B. 2) One movie a week</td>\n",
              "      <td>G. Jurassic Park</td>\n",
              "      <td>-Diligent\\n-Kind-hearted\\n-Easy-going\\n-Ambiti...</td>\n",
              "    </tr>\n",
              "    <tr>\n",
              "      <th>31</th>\n",
              "      <td>Tim Brice</td>\n",
              "      <td>7.80</td>\n",
              "      <td>8.40</td>\n",
              "      <td>6.4</td>\n",
              "      <td>5.4</td>\n",
              "      <td>4.90</td>\n",
              "      <td>8.5</td>\n",
              "      <td>9.20</td>\n",
              "      <td>3.50</td>\n",
              "      <td>6.10</td>\n",
              "      <td>4.50</td>\n",
              "      <td>5.70</td>\n",
              "      <td>3.90</td>\n",
              "      <td>7.9</td>\n",
              "      <td>D. 4) Three to four movies a week</td>\n",
              "      <td>A. Star Wars</td>\n",
              "      <td>Resourceful\\nPersistant\\nConsiderate\\nLoyal\\nR...</td>\n",
              "    </tr>\n",
              "    <tr>\n",
              "      <th>32</th>\n",
              "      <td>Venkat Patchikura</td>\n",
              "      <td>9.90</td>\n",
              "      <td>8.90</td>\n",
              "      <td>7.8</td>\n",
              "      <td>8.6</td>\n",
              "      <td>8.70</td>\n",
              "      <td>1.1</td>\n",
              "      <td>6.66</td>\n",
              "      <td>9.99</td>\n",
              "      <td>8.88</td>\n",
              "      <td>2.22</td>\n",
              "      <td>6.56</td>\n",
              "      <td>5.50</td>\n",
              "      <td>6.6</td>\n",
              "      <td>E. 5) More than 4 movies a week</td>\n",
              "      <td>G. Jurassic Park</td>\n",
              "      <td>-Fast\\n-Motivated\\n-Social\\n-Friendly\\n-Focused</td>\n",
              "    </tr>\n",
              "    <tr>\n",
              "      <th>33</th>\n",
              "      <td>Wenbo</td>\n",
              "      <td>NaN</td>\n",
              "      <td>NaN</td>\n",
              "      <td>NaN</td>\n",
              "      <td>NaN</td>\n",
              "      <td>NaN</td>\n",
              "      <td>NaN</td>\n",
              "      <td>NaN</td>\n",
              "      <td>NaN</td>\n",
              "      <td>NaN</td>\n",
              "      <td>NaN</td>\n",
              "      <td>NaN</td>\n",
              "      <td>NaN</td>\n",
              "      <td>NaN</td>\n",
              "      <td>NaN</td>\n",
              "      <td>NaN</td>\n",
              "      <td>NaN</td>\n",
              "    </tr>\n",
              "    <tr>\n",
              "      <th>34</th>\n",
              "      <td>Wenbo</td>\n",
              "      <td>7.00</td>\n",
              "      <td>6.60</td>\n",
              "      <td>8.0</td>\n",
              "      <td>9.5</td>\n",
              "      <td>2.00</td>\n",
              "      <td>6.0</td>\n",
              "      <td>4.50</td>\n",
              "      <td>5.00</td>\n",
              "      <td>5.00</td>\n",
              "      <td>5.00</td>\n",
              "      <td>5.00</td>\n",
              "      <td>8.00</td>\n",
              "      <td>8.7</td>\n",
              "      <td>B. 2) One movie a week</td>\n",
              "      <td>G. Jurassic Park</td>\n",
              "      <td>- Slow\\n- Smile\\n- Joking\\n- Self-joking\\n- in...</td>\n",
              "    </tr>\n",
              "    <tr>\n",
              "      <th>35</th>\n",
              "      <td>anusha reddy</td>\n",
              "      <td>5.50</td>\n",
              "      <td>6.00</td>\n",
              "      <td>8.5</td>\n",
              "      <td>9.9</td>\n",
              "      <td>9.00</td>\n",
              "      <td>10.0</td>\n",
              "      <td>8.50</td>\n",
              "      <td>10.00</td>\n",
              "      <td>9.50</td>\n",
              "      <td>8.50</td>\n",
              "      <td>9.10</td>\n",
              "      <td>5.10</td>\n",
              "      <td>7.5</td>\n",
              "      <td>B. 2) One movie a week</td>\n",
              "      <td>D. Spiderman\\nG. Jurassic Park</td>\n",
              "      <td>Ambitious\\nSociable\\nNight Owl\\nFriendly\\nEasy...</td>\n",
              "    </tr>\n",
              "    <tr>\n",
              "      <th>36</th>\n",
              "      <td>eknath vamsi punna</td>\n",
              "      <td>10.00</td>\n",
              "      <td>10.00</td>\n",
              "      <td>7.0</td>\n",
              "      <td>10.0</td>\n",
              "      <td>1.00</td>\n",
              "      <td>1.0</td>\n",
              "      <td>10.00</td>\n",
              "      <td>5.00</td>\n",
              "      <td>10.00</td>\n",
              "      <td>0.10</td>\n",
              "      <td>10.00</td>\n",
              "      <td>0.10</td>\n",
              "      <td>0.2</td>\n",
              "      <td>E. 5) More than 4 movies a week</td>\n",
              "      <td>D. Spiderman\\nG. Jurassic Park</td>\n",
              "      <td>-Punctual\\n-quick\\n-aggressive\\n-happy\\n-self-...</td>\n",
              "    </tr>\n",
              "    <tr>\n",
              "      <th>37</th>\n",
              "      <td>sai</td>\n",
              "      <td>8.50</td>\n",
              "      <td>9.00</td>\n",
              "      <td>10.0</td>\n",
              "      <td>10.0</td>\n",
              "      <td>6.00</td>\n",
              "      <td>8.9</td>\n",
              "      <td>9.00</td>\n",
              "      <td>2.00</td>\n",
              "      <td>7.80</td>\n",
              "      <td>8.00</td>\n",
              "      <td>7.50</td>\n",
              "      <td>6.00</td>\n",
              "      <td>10.0</td>\n",
              "      <td>B. 2) One movie a week</td>\n",
              "      <td>C. Gladiator</td>\n",
              "      <td>calm\\ndedicated \\nambivert\\nreligious \\nthankful</td>\n",
              "    </tr>\n",
              "    <tr>\n",
              "      <th>38</th>\n",
              "      <td>sai</td>\n",
              "      <td>NaN</td>\n",
              "      <td>NaN</td>\n",
              "      <td>NaN</td>\n",
              "      <td>NaN</td>\n",
              "      <td>NaN</td>\n",
              "      <td>NaN</td>\n",
              "      <td>NaN</td>\n",
              "      <td>9.00</td>\n",
              "      <td>10.00</td>\n",
              "      <td>NaN</td>\n",
              "      <td>NaN</td>\n",
              "      <td>NaN</td>\n",
              "      <td>NaN</td>\n",
              "      <td>NaN</td>\n",
              "      <td>NaN</td>\n",
              "      <td>NaN</td>\n",
              "    </tr>\n",
              "    <tr>\n",
              "      <th>39</th>\n",
              "      <td>vrushabhkumar shrimali</td>\n",
              "      <td>10.00</td>\n",
              "      <td>10.00</td>\n",
              "      <td>10.0</td>\n",
              "      <td>9.0</td>\n",
              "      <td>6.00</td>\n",
              "      <td>8.0</td>\n",
              "      <td>6.00</td>\n",
              "      <td>9.00</td>\n",
              "      <td>10.00</td>\n",
              "      <td>1.00</td>\n",
              "      <td>6.00</td>\n",
              "      <td>3.00</td>\n",
              "      <td>10.0</td>\n",
              "      <td>B. 2) One movie a week</td>\n",
              "      <td>B. Shrek\\nD. Spiderman\\nE. Mulan\\nG. Jurassic ...</td>\n",
              "      <td>Friendly,\\nStrong,\\nGood,\\nSociable,\\nCapable</td>\n",
              "    </tr>\n",
              "  </tbody>\n",
              "</table>\n",
              "</div>\n",
              "      <button class=\"colab-df-convert\" onclick=\"convertToInteractive('df-ed9b545f-13de-4cb8-8ecc-19557fd6a8cf')\"\n",
              "              title=\"Convert this dataframe to an interactive table.\"\n",
              "              style=\"display:none;\">\n",
              "        \n",
              "  <svg xmlns=\"http://www.w3.org/2000/svg\" height=\"24px\"viewBox=\"0 0 24 24\"\n",
              "       width=\"24px\">\n",
              "    <path d=\"M0 0h24v24H0V0z\" fill=\"none\"/>\n",
              "    <path d=\"M18.56 5.44l.94 2.06.94-2.06 2.06-.94-2.06-.94-.94-2.06-.94 2.06-2.06.94zm-11 1L8.5 8.5l.94-2.06 2.06-.94-2.06-.94L8.5 2.5l-.94 2.06-2.06.94zm10 10l.94 2.06.94-2.06 2.06-.94-2.06-.94-.94-2.06-.94 2.06-2.06.94z\"/><path d=\"M17.41 7.96l-1.37-1.37c-.4-.4-.92-.59-1.43-.59-.52 0-1.04.2-1.43.59L10.3 9.45l-7.72 7.72c-.78.78-.78 2.05 0 2.83L4 21.41c.39.39.9.59 1.41.59.51 0 1.02-.2 1.41-.59l7.78-7.78 2.81-2.81c.8-.78.8-2.07 0-2.86zM5.41 20L4 18.59l7.72-7.72 1.47 1.35L5.41 20z\"/>\n",
              "  </svg>\n",
              "      </button>\n",
              "      \n",
              "  <style>\n",
              "    .colab-df-container {\n",
              "      display:flex;\n",
              "      flex-wrap:wrap;\n",
              "      gap: 12px;\n",
              "    }\n",
              "\n",
              "    .colab-df-convert {\n",
              "      background-color: #E8F0FE;\n",
              "      border: none;\n",
              "      border-radius: 50%;\n",
              "      cursor: pointer;\n",
              "      display: none;\n",
              "      fill: #1967D2;\n",
              "      height: 32px;\n",
              "      padding: 0 0 0 0;\n",
              "      width: 32px;\n",
              "    }\n",
              "\n",
              "    .colab-df-convert:hover {\n",
              "      background-color: #E2EBFA;\n",
              "      box-shadow: 0px 1px 2px rgba(60, 64, 67, 0.3), 0px 1px 3px 1px rgba(60, 64, 67, 0.15);\n",
              "      fill: #174EA6;\n",
              "    }\n",
              "\n",
              "    [theme=dark] .colab-df-convert {\n",
              "      background-color: #3B4455;\n",
              "      fill: #D2E3FC;\n",
              "    }\n",
              "\n",
              "    [theme=dark] .colab-df-convert:hover {\n",
              "      background-color: #434B5C;\n",
              "      box-shadow: 0px 1px 3px 1px rgba(0, 0, 0, 0.15);\n",
              "      filter: drop-shadow(0px 1px 2px rgba(0, 0, 0, 0.3));\n",
              "      fill: #FFFFFF;\n",
              "    }\n",
              "  </style>\n",
              "\n",
              "      <script>\n",
              "        const buttonEl =\n",
              "          document.querySelector('#df-ed9b545f-13de-4cb8-8ecc-19557fd6a8cf button.colab-df-convert');\n",
              "        buttonEl.style.display =\n",
              "          google.colab.kernel.accessAllowed ? 'block' : 'none';\n",
              "\n",
              "        async function convertToInteractive(key) {\n",
              "          const element = document.querySelector('#df-ed9b545f-13de-4cb8-8ecc-19557fd6a8cf');\n",
              "          const dataTable =\n",
              "            await google.colab.kernel.invokeFunction('convertToInteractive',\n",
              "                                                     [key], {});\n",
              "          if (!dataTable) return;\n",
              "\n",
              "          const docLinkHtml = 'Like what you see? Visit the ' +\n",
              "            '<a target=\"_blank\" href=https://colab.research.google.com/notebooks/data_table.ipynb>data table notebook</a>'\n",
              "            + ' to learn more about interactive tables.';\n",
              "          element.innerHTML = '';\n",
              "          dataTable['output_type'] = 'display_data';\n",
              "          await google.colab.output.renderOutput(dataTable, element);\n",
              "          const docLink = document.createElement('div');\n",
              "          docLink.innerHTML = docLinkHtml;\n",
              "          element.appendChild(docLink);\n",
              "        }\n",
              "      </script>\n",
              "    </div>\n",
              "  </div>\n",
              "  "
            ]
          },
          "metadata": {},
          "execution_count": 203
        }
      ]
    },
    {
      "cell_type": "markdown",
      "source": [
        "Find the null value by using the isna function.\n"
      ],
      "metadata": {
        "id": "8lk2hIWWnb_M"
      }
    },
    {
      "cell_type": "code",
      "source": [
        "dataset.isna().sum()"
      ],
      "metadata": {
        "colab": {
          "base_uri": "https://localhost:8080/"
        },
        "id": "etpqe1oerylf",
        "outputId": "7ad56418-eaa2-4a55-a5d9-6726a0ab6008"
      },
      "execution_count": null,
      "outputs": [
        {
          "output_type": "execute_result",
          "data": {
            "text/plain": [
              "Name                     0\n",
              "action                   2\n",
              "adventure                3\n",
              "comedy                   3\n",
              "crime                    3\n",
              "drama                    3\n",
              "fantasy                  3\n",
              "fiction                  3\n",
              "horror                   2\n",
              "mystery                  2\n",
              "romance                  3\n",
              "thriller                 3\n",
              "documentry               3\n",
              "animated                 3\n",
              "watch movies per week    3\n",
              "movie prefered           3\n",
              "5_adjective              3\n",
              "dtype: int64"
            ]
          },
          "metadata": {},
          "execution_count": 204
        }
      ]
    },
    {
      "cell_type": "markdown",
      "source": [
        "Then drop the Na row which is disturbing in the analysis. "
      ],
      "metadata": {
        "id": "b21MvnPqnkeH"
      }
    },
    {
      "cell_type": "code",
      "source": [
        "dataset = dataset.dropna()"
      ],
      "metadata": {
        "id": "tTiH77Yzspl4"
      },
      "execution_count": null,
      "outputs": []
    },
    {
      "cell_type": "markdown",
      "source": [
        "Shape of the new dataset\n",
        "\n",
        "Row -  37\n",
        "\n",
        "Columns - 17"
      ],
      "metadata": {
        "id": "Jh8c0O4Pnz1H"
      }
    },
    {
      "cell_type": "code",
      "source": [
        "dataset.shape"
      ],
      "metadata": {
        "colab": {
          "base_uri": "https://localhost:8080/"
        },
        "id": "gkYnpueFtwYo",
        "outputId": "4d3e7ab8-cdfb-4fbf-b2f8-3e694e86f3c5"
      },
      "execution_count": null,
      "outputs": [
        {
          "output_type": "execute_result",
          "data": {
            "text/plain": [
              "(37, 17)"
            ]
          },
          "metadata": {},
          "execution_count": 206
        }
      ]
    },
    {
      "cell_type": "markdown",
      "source": [
        "## 2) Data Exploration"
      ],
      "metadata": {
        "id": "qPogi7jAzEcq"
      }
    },
    {
      "cell_type": "markdown",
      "source": [
        "Using dtypes understand the types of the different columns. "
      ],
      "metadata": {
        "id": "ajArgT9HoVOB"
      }
    },
    {
      "cell_type": "code",
      "source": [
        "dataset.dtypes"
      ],
      "metadata": {
        "colab": {
          "base_uri": "https://localhost:8080/"
        },
        "id": "1ajrAtCcs028",
        "outputId": "91d062f1-b1d6-4aa2-d229-5e32ba034690"
      },
      "execution_count": null,
      "outputs": [
        {
          "output_type": "execute_result",
          "data": {
            "text/plain": [
              "Name                      object\n",
              "action                   float64\n",
              "adventure                float64\n",
              "comedy                   float64\n",
              "crime                    float64\n",
              "drama                    float64\n",
              "fantasy                  float64\n",
              "fiction                  float64\n",
              "horror                   float64\n",
              "mystery                  float64\n",
              "romance                  float64\n",
              "thriller                 float64\n",
              "documentry               float64\n",
              "animated                 float64\n",
              "watch movies per week     object\n",
              "movie prefered            object\n",
              "5_adjective               object\n",
              "dtype: object"
            ]
          },
          "metadata": {},
          "execution_count": 208
        }
      ]
    },
    {
      "cell_type": "markdown",
      "source": [
        "using the describe command find the different the different attributes of the numerical data such as count, mean, standard deviation, quartile of 25, 50 and 75 and find min and max value of numerical data.  "
      ],
      "metadata": {
        "id": "Hq828vJdoisN"
      }
    },
    {
      "cell_type": "code",
      "source": [
        "dataset.describe()"
      ],
      "metadata": {
        "colab": {
          "base_uri": "https://localhost:8080/",
          "height": 300
        },
        "id": "pQDKU3LZ740h",
        "outputId": "55447d9b-4129-4431-bdd5-386a47870fbd"
      },
      "execution_count": null,
      "outputs": [
        {
          "output_type": "execute_result",
          "data": {
            "text/plain": [
              "          action  adventure     comedy      crime      drama    fantasy  \\\n",
              "count  37.000000  37.000000  37.000000  37.000000  37.000000  37.000000   \n",
              "mean    8.407838   8.202432   8.408108   7.637838   6.021351   6.516216   \n",
              "std     1.574588   1.585997   1.556238   2.278444   2.953732   2.710219   \n",
              "min     4.000000   4.000000   4.200000   3.000000   1.000000   1.000000   \n",
              "25%     7.700000   7.000000   7.800000   6.100000   2.300000   5.500000   \n",
              "50%     8.500000   8.500000   8.900000   8.600000   7.000000   7.000000   \n",
              "75%     9.900000   9.500000   9.800000   9.300000   8.000000   8.500000   \n",
              "max    10.000000  10.000000  10.000000  10.100000  10.000000  10.000000   \n",
              "\n",
              "         fiction     horror    mystery    romance   thriller  documentry  \\\n",
              "count  37.000000  37.000000  37.000000  37.000000  37.000000   37.000000   \n",
              "mean    8.225946   6.356486   8.010270   6.549189   8.061081    6.240811   \n",
              "std     1.632284   3.154089   1.499264   2.607675   1.847262    2.549011   \n",
              "min     4.500000   1.000000   4.500000   0.100000   3.400000    0.100000   \n",
              "25%     6.800000   4.200000   7.300000   5.000000   7.000000    4.100000   \n",
              "50%     8.900000   6.900000   8.000000   7.000000   8.500000    6.500000   \n",
              "75%     9.500000   9.800000   9.500000   8.500000   9.600000    8.600000   \n",
              "max    10.000000  10.000000  10.000000  10.000000  10.000000   10.000000   \n",
              "\n",
              "        animated  \n",
              "count  37.000000  \n",
              "mean    6.918919  \n",
              "std     2.928010  \n",
              "min     0.200000  \n",
              "25%     5.000000  \n",
              "50%     7.500000  \n",
              "75%     9.600000  \n",
              "max    10.000000  "
            ],
            "text/html": [
              "\n",
              "  <div id=\"df-0e324704-25ca-424a-a155-dc6d5619bc0a\">\n",
              "    <div class=\"colab-df-container\">\n",
              "      <div>\n",
              "<style scoped>\n",
              "    .dataframe tbody tr th:only-of-type {\n",
              "        vertical-align: middle;\n",
              "    }\n",
              "\n",
              "    .dataframe tbody tr th {\n",
              "        vertical-align: top;\n",
              "    }\n",
              "\n",
              "    .dataframe thead th {\n",
              "        text-align: right;\n",
              "    }\n",
              "</style>\n",
              "<table border=\"1\" class=\"dataframe\">\n",
              "  <thead>\n",
              "    <tr style=\"text-align: right;\">\n",
              "      <th></th>\n",
              "      <th>action</th>\n",
              "      <th>adventure</th>\n",
              "      <th>comedy</th>\n",
              "      <th>crime</th>\n",
              "      <th>drama</th>\n",
              "      <th>fantasy</th>\n",
              "      <th>fiction</th>\n",
              "      <th>horror</th>\n",
              "      <th>mystery</th>\n",
              "      <th>romance</th>\n",
              "      <th>thriller</th>\n",
              "      <th>documentry</th>\n",
              "      <th>animated</th>\n",
              "    </tr>\n",
              "  </thead>\n",
              "  <tbody>\n",
              "    <tr>\n",
              "      <th>count</th>\n",
              "      <td>37.000000</td>\n",
              "      <td>37.000000</td>\n",
              "      <td>37.000000</td>\n",
              "      <td>37.000000</td>\n",
              "      <td>37.000000</td>\n",
              "      <td>37.000000</td>\n",
              "      <td>37.000000</td>\n",
              "      <td>37.000000</td>\n",
              "      <td>37.000000</td>\n",
              "      <td>37.000000</td>\n",
              "      <td>37.000000</td>\n",
              "      <td>37.000000</td>\n",
              "      <td>37.000000</td>\n",
              "    </tr>\n",
              "    <tr>\n",
              "      <th>mean</th>\n",
              "      <td>8.407838</td>\n",
              "      <td>8.202432</td>\n",
              "      <td>8.408108</td>\n",
              "      <td>7.637838</td>\n",
              "      <td>6.021351</td>\n",
              "      <td>6.516216</td>\n",
              "      <td>8.225946</td>\n",
              "      <td>6.356486</td>\n",
              "      <td>8.010270</td>\n",
              "      <td>6.549189</td>\n",
              "      <td>8.061081</td>\n",
              "      <td>6.240811</td>\n",
              "      <td>6.918919</td>\n",
              "    </tr>\n",
              "    <tr>\n",
              "      <th>std</th>\n",
              "      <td>1.574588</td>\n",
              "      <td>1.585997</td>\n",
              "      <td>1.556238</td>\n",
              "      <td>2.278444</td>\n",
              "      <td>2.953732</td>\n",
              "      <td>2.710219</td>\n",
              "      <td>1.632284</td>\n",
              "      <td>3.154089</td>\n",
              "      <td>1.499264</td>\n",
              "      <td>2.607675</td>\n",
              "      <td>1.847262</td>\n",
              "      <td>2.549011</td>\n",
              "      <td>2.928010</td>\n",
              "    </tr>\n",
              "    <tr>\n",
              "      <th>min</th>\n",
              "      <td>4.000000</td>\n",
              "      <td>4.000000</td>\n",
              "      <td>4.200000</td>\n",
              "      <td>3.000000</td>\n",
              "      <td>1.000000</td>\n",
              "      <td>1.000000</td>\n",
              "      <td>4.500000</td>\n",
              "      <td>1.000000</td>\n",
              "      <td>4.500000</td>\n",
              "      <td>0.100000</td>\n",
              "      <td>3.400000</td>\n",
              "      <td>0.100000</td>\n",
              "      <td>0.200000</td>\n",
              "    </tr>\n",
              "    <tr>\n",
              "      <th>25%</th>\n",
              "      <td>7.700000</td>\n",
              "      <td>7.000000</td>\n",
              "      <td>7.800000</td>\n",
              "      <td>6.100000</td>\n",
              "      <td>2.300000</td>\n",
              "      <td>5.500000</td>\n",
              "      <td>6.800000</td>\n",
              "      <td>4.200000</td>\n",
              "      <td>7.300000</td>\n",
              "      <td>5.000000</td>\n",
              "      <td>7.000000</td>\n",
              "      <td>4.100000</td>\n",
              "      <td>5.000000</td>\n",
              "    </tr>\n",
              "    <tr>\n",
              "      <th>50%</th>\n",
              "      <td>8.500000</td>\n",
              "      <td>8.500000</td>\n",
              "      <td>8.900000</td>\n",
              "      <td>8.600000</td>\n",
              "      <td>7.000000</td>\n",
              "      <td>7.000000</td>\n",
              "      <td>8.900000</td>\n",
              "      <td>6.900000</td>\n",
              "      <td>8.000000</td>\n",
              "      <td>7.000000</td>\n",
              "      <td>8.500000</td>\n",
              "      <td>6.500000</td>\n",
              "      <td>7.500000</td>\n",
              "    </tr>\n",
              "    <tr>\n",
              "      <th>75%</th>\n",
              "      <td>9.900000</td>\n",
              "      <td>9.500000</td>\n",
              "      <td>9.800000</td>\n",
              "      <td>9.300000</td>\n",
              "      <td>8.000000</td>\n",
              "      <td>8.500000</td>\n",
              "      <td>9.500000</td>\n",
              "      <td>9.800000</td>\n",
              "      <td>9.500000</td>\n",
              "      <td>8.500000</td>\n",
              "      <td>9.600000</td>\n",
              "      <td>8.600000</td>\n",
              "      <td>9.600000</td>\n",
              "    </tr>\n",
              "    <tr>\n",
              "      <th>max</th>\n",
              "      <td>10.000000</td>\n",
              "      <td>10.000000</td>\n",
              "      <td>10.000000</td>\n",
              "      <td>10.100000</td>\n",
              "      <td>10.000000</td>\n",
              "      <td>10.000000</td>\n",
              "      <td>10.000000</td>\n",
              "      <td>10.000000</td>\n",
              "      <td>10.000000</td>\n",
              "      <td>10.000000</td>\n",
              "      <td>10.000000</td>\n",
              "      <td>10.000000</td>\n",
              "      <td>10.000000</td>\n",
              "    </tr>\n",
              "  </tbody>\n",
              "</table>\n",
              "</div>\n",
              "      <button class=\"colab-df-convert\" onclick=\"convertToInteractive('df-0e324704-25ca-424a-a155-dc6d5619bc0a')\"\n",
              "              title=\"Convert this dataframe to an interactive table.\"\n",
              "              style=\"display:none;\">\n",
              "        \n",
              "  <svg xmlns=\"http://www.w3.org/2000/svg\" height=\"24px\"viewBox=\"0 0 24 24\"\n",
              "       width=\"24px\">\n",
              "    <path d=\"M0 0h24v24H0V0z\" fill=\"none\"/>\n",
              "    <path d=\"M18.56 5.44l.94 2.06.94-2.06 2.06-.94-2.06-.94-.94-2.06-.94 2.06-2.06.94zm-11 1L8.5 8.5l.94-2.06 2.06-.94-2.06-.94L8.5 2.5l-.94 2.06-2.06.94zm10 10l.94 2.06.94-2.06 2.06-.94-2.06-.94-.94-2.06-.94 2.06-2.06.94z\"/><path d=\"M17.41 7.96l-1.37-1.37c-.4-.4-.92-.59-1.43-.59-.52 0-1.04.2-1.43.59L10.3 9.45l-7.72 7.72c-.78.78-.78 2.05 0 2.83L4 21.41c.39.39.9.59 1.41.59.51 0 1.02-.2 1.41-.59l7.78-7.78 2.81-2.81c.8-.78.8-2.07 0-2.86zM5.41 20L4 18.59l7.72-7.72 1.47 1.35L5.41 20z\"/>\n",
              "  </svg>\n",
              "      </button>\n",
              "      \n",
              "  <style>\n",
              "    .colab-df-container {\n",
              "      display:flex;\n",
              "      flex-wrap:wrap;\n",
              "      gap: 12px;\n",
              "    }\n",
              "\n",
              "    .colab-df-convert {\n",
              "      background-color: #E8F0FE;\n",
              "      border: none;\n",
              "      border-radius: 50%;\n",
              "      cursor: pointer;\n",
              "      display: none;\n",
              "      fill: #1967D2;\n",
              "      height: 32px;\n",
              "      padding: 0 0 0 0;\n",
              "      width: 32px;\n",
              "    }\n",
              "\n",
              "    .colab-df-convert:hover {\n",
              "      background-color: #E2EBFA;\n",
              "      box-shadow: 0px 1px 2px rgba(60, 64, 67, 0.3), 0px 1px 3px 1px rgba(60, 64, 67, 0.15);\n",
              "      fill: #174EA6;\n",
              "    }\n",
              "\n",
              "    [theme=dark] .colab-df-convert {\n",
              "      background-color: #3B4455;\n",
              "      fill: #D2E3FC;\n",
              "    }\n",
              "\n",
              "    [theme=dark] .colab-df-convert:hover {\n",
              "      background-color: #434B5C;\n",
              "      box-shadow: 0px 1px 3px 1px rgba(0, 0, 0, 0.15);\n",
              "      filter: drop-shadow(0px 1px 2px rgba(0, 0, 0, 0.3));\n",
              "      fill: #FFFFFF;\n",
              "    }\n",
              "  </style>\n",
              "\n",
              "      <script>\n",
              "        const buttonEl =\n",
              "          document.querySelector('#df-0e324704-25ca-424a-a155-dc6d5619bc0a button.colab-df-convert');\n",
              "        buttonEl.style.display =\n",
              "          google.colab.kernel.accessAllowed ? 'block' : 'none';\n",
              "\n",
              "        async function convertToInteractive(key) {\n",
              "          const element = document.querySelector('#df-0e324704-25ca-424a-a155-dc6d5619bc0a');\n",
              "          const dataTable =\n",
              "            await google.colab.kernel.invokeFunction('convertToInteractive',\n",
              "                                                     [key], {});\n",
              "          if (!dataTable) return;\n",
              "\n",
              "          const docLinkHtml = 'Like what you see? Visit the ' +\n",
              "            '<a target=\"_blank\" href=https://colab.research.google.com/notebooks/data_table.ipynb>data table notebook</a>'\n",
              "            + ' to learn more about interactive tables.';\n",
              "          element.innerHTML = '';\n",
              "          dataTable['output_type'] = 'display_data';\n",
              "          await google.colab.output.renderOutput(dataTable, element);\n",
              "          const docLink = document.createElement('div');\n",
              "          docLink.innerHTML = docLinkHtml;\n",
              "          element.appendChild(docLink);\n",
              "        }\n",
              "      </script>\n",
              "    </div>\n",
              "  </div>\n",
              "  "
            ]
          },
          "metadata": {},
          "execution_count": 209
        }
      ]
    },
    {
      "cell_type": "markdown",
      "source": [
        "Using info command the understand about the number of rows and columns, type of columns and size of data."
      ],
      "metadata": {
        "id": "lzsPwu86pCbo"
      }
    },
    {
      "cell_type": "code",
      "source": [
        "dataset.info()"
      ],
      "metadata": {
        "colab": {
          "base_uri": "https://localhost:8080/"
        },
        "id": "tmHQbEB18AQ7",
        "outputId": "a695a87c-38cf-4389-b9c4-7a42fa719e75"
      },
      "execution_count": null,
      "outputs": [
        {
          "output_type": "stream",
          "name": "stdout",
          "text": [
            "<class 'pandas.core.frame.DataFrame'>\n",
            "Int64Index: 37 entries, 0 to 39\n",
            "Data columns (total 17 columns):\n",
            " #   Column                 Non-Null Count  Dtype  \n",
            "---  ------                 --------------  -----  \n",
            " 0   Name                   37 non-null     object \n",
            " 1   action                 37 non-null     float64\n",
            " 2   adventure              37 non-null     float64\n",
            " 3   comedy                 37 non-null     float64\n",
            " 4   crime                  37 non-null     float64\n",
            " 5   drama                  37 non-null     float64\n",
            " 6   fantasy                37 non-null     float64\n",
            " 7   fiction                37 non-null     float64\n",
            " 8   horror                 37 non-null     float64\n",
            " 9   mystery                37 non-null     float64\n",
            " 10  romance                37 non-null     float64\n",
            " 11  thriller               37 non-null     float64\n",
            " 12  documentry             37 non-null     float64\n",
            " 13  animated               37 non-null     float64\n",
            " 14  watch movies per week  37 non-null     object \n",
            " 15  movie prefered         37 non-null     object \n",
            " 16  5_adjective            37 non-null     object \n",
            "dtypes: float64(13), object(4)\n",
            "memory usage: 5.2+ KB\n"
          ]
        }
      ]
    },
    {
      "cell_type": "markdown",
      "source": [
        "Using columns command find the differnt columns name."
      ],
      "metadata": {
        "id": "ijQ-cYHWpW7z"
      }
    },
    {
      "cell_type": "code",
      "source": [
        "dataset.columns"
      ],
      "metadata": {
        "colab": {
          "base_uri": "https://localhost:8080/"
        },
        "id": "etq9oqeT9pd_",
        "outputId": "9c61560e-9c57-4c85-9b7d-1af7d126892c"
      },
      "execution_count": null,
      "outputs": [
        {
          "output_type": "execute_result",
          "data": {
            "text/plain": [
              "Index(['Name', 'action', 'adventure', 'comedy', 'crime', 'drama', 'fantasy',\n",
              "       'fiction', 'horror', 'mystery', 'romance', 'thriller', 'documentry',\n",
              "       'animated', 'watch movies per week', 'movie prefered', '5_adjective'],\n",
              "      dtype='object')"
            ]
          },
          "metadata": {},
          "execution_count": 211
        }
      ]
    },
    {
      "cell_type": "markdown",
      "source": [
        "##3)Dendogram"
      ],
      "metadata": {
        "id": "pgs9nbbG9xRl"
      }
    },
    {
      "cell_type": "markdown",
      "source": [
        "For plotting dendrogram import the required library such as PCA, AgglorativeClustering, StandardScaler, Normalize ,and shc. "
      ],
      "metadata": {
        "id": "HXSmGfu8plVH"
      }
    },
    {
      "cell_type": "code",
      "source": [
        "from sklearn.decomposition import PCA\n",
        "from sklearn.cluster import AgglomerativeClustering\n",
        "from sklearn.preprocessing import StandardScaler, normalize\n",
        "import scipy.cluster.hierarchy as shc"
      ],
      "metadata": {
        "id": "IHruvSo49ux3"
      },
      "execution_count": null,
      "outputs": []
    },
    {
      "cell_type": "markdown",
      "source": [
        "Select the first five columns such as action, adventure, comedy, crime, drama for plotting dendrogram."
      ],
      "metadata": {
        "id": "hWTOfZudqBQQ"
      }
    },
    {
      "cell_type": "code",
      "source": [
        "df = dataset[['action','adventure','comedy','crime','drama']]"
      ],
      "metadata": {
        "id": "LvhHcwXlGGm6"
      },
      "execution_count": null,
      "outputs": []
    },
    {
      "cell_type": "code",
      "source": [
        "df.head(2)"
      ],
      "metadata": {
        "colab": {
          "base_uri": "https://localhost:8080/",
          "height": 112
        },
        "id": "PDNHLVOUGaVU",
        "outputId": "2efbea9a-815e-4971-9e3e-7f19c2454bc6"
      },
      "execution_count": null,
      "outputs": [
        {
          "output_type": "execute_result",
          "data": {
            "text/plain": [
              "   action  adventure  comedy  crime  drama\n",
              "0     9.9        9.9     9.8    8.5    5.4\n",
              "1     6.0        6.0     6.0    5.0    7.0"
            ],
            "text/html": [
              "\n",
              "  <div id=\"df-075a5c52-9ff8-4768-8a21-675adc246b9f\">\n",
              "    <div class=\"colab-df-container\">\n",
              "      <div>\n",
              "<style scoped>\n",
              "    .dataframe tbody tr th:only-of-type {\n",
              "        vertical-align: middle;\n",
              "    }\n",
              "\n",
              "    .dataframe tbody tr th {\n",
              "        vertical-align: top;\n",
              "    }\n",
              "\n",
              "    .dataframe thead th {\n",
              "        text-align: right;\n",
              "    }\n",
              "</style>\n",
              "<table border=\"1\" class=\"dataframe\">\n",
              "  <thead>\n",
              "    <tr style=\"text-align: right;\">\n",
              "      <th></th>\n",
              "      <th>action</th>\n",
              "      <th>adventure</th>\n",
              "      <th>comedy</th>\n",
              "      <th>crime</th>\n",
              "      <th>drama</th>\n",
              "    </tr>\n",
              "  </thead>\n",
              "  <tbody>\n",
              "    <tr>\n",
              "      <th>0</th>\n",
              "      <td>9.9</td>\n",
              "      <td>9.9</td>\n",
              "      <td>9.8</td>\n",
              "      <td>8.5</td>\n",
              "      <td>5.4</td>\n",
              "    </tr>\n",
              "    <tr>\n",
              "      <th>1</th>\n",
              "      <td>6.0</td>\n",
              "      <td>6.0</td>\n",
              "      <td>6.0</td>\n",
              "      <td>5.0</td>\n",
              "      <td>7.0</td>\n",
              "    </tr>\n",
              "  </tbody>\n",
              "</table>\n",
              "</div>\n",
              "      <button class=\"colab-df-convert\" onclick=\"convertToInteractive('df-075a5c52-9ff8-4768-8a21-675adc246b9f')\"\n",
              "              title=\"Convert this dataframe to an interactive table.\"\n",
              "              style=\"display:none;\">\n",
              "        \n",
              "  <svg xmlns=\"http://www.w3.org/2000/svg\" height=\"24px\"viewBox=\"0 0 24 24\"\n",
              "       width=\"24px\">\n",
              "    <path d=\"M0 0h24v24H0V0z\" fill=\"none\"/>\n",
              "    <path d=\"M18.56 5.44l.94 2.06.94-2.06 2.06-.94-2.06-.94-.94-2.06-.94 2.06-2.06.94zm-11 1L8.5 8.5l.94-2.06 2.06-.94-2.06-.94L8.5 2.5l-.94 2.06-2.06.94zm10 10l.94 2.06.94-2.06 2.06-.94-2.06-.94-.94-2.06-.94 2.06-2.06.94z\"/><path d=\"M17.41 7.96l-1.37-1.37c-.4-.4-.92-.59-1.43-.59-.52 0-1.04.2-1.43.59L10.3 9.45l-7.72 7.72c-.78.78-.78 2.05 0 2.83L4 21.41c.39.39.9.59 1.41.59.51 0 1.02-.2 1.41-.59l7.78-7.78 2.81-2.81c.8-.78.8-2.07 0-2.86zM5.41 20L4 18.59l7.72-7.72 1.47 1.35L5.41 20z\"/>\n",
              "  </svg>\n",
              "      </button>\n",
              "      \n",
              "  <style>\n",
              "    .colab-df-container {\n",
              "      display:flex;\n",
              "      flex-wrap:wrap;\n",
              "      gap: 12px;\n",
              "    }\n",
              "\n",
              "    .colab-df-convert {\n",
              "      background-color: #E8F0FE;\n",
              "      border: none;\n",
              "      border-radius: 50%;\n",
              "      cursor: pointer;\n",
              "      display: none;\n",
              "      fill: #1967D2;\n",
              "      height: 32px;\n",
              "      padding: 0 0 0 0;\n",
              "      width: 32px;\n",
              "    }\n",
              "\n",
              "    .colab-df-convert:hover {\n",
              "      background-color: #E2EBFA;\n",
              "      box-shadow: 0px 1px 2px rgba(60, 64, 67, 0.3), 0px 1px 3px 1px rgba(60, 64, 67, 0.15);\n",
              "      fill: #174EA6;\n",
              "    }\n",
              "\n",
              "    [theme=dark] .colab-df-convert {\n",
              "      background-color: #3B4455;\n",
              "      fill: #D2E3FC;\n",
              "    }\n",
              "\n",
              "    [theme=dark] .colab-df-convert:hover {\n",
              "      background-color: #434B5C;\n",
              "      box-shadow: 0px 1px 3px 1px rgba(0, 0, 0, 0.15);\n",
              "      filter: drop-shadow(0px 1px 2px rgba(0, 0, 0, 0.3));\n",
              "      fill: #FFFFFF;\n",
              "    }\n",
              "  </style>\n",
              "\n",
              "      <script>\n",
              "        const buttonEl =\n",
              "          document.querySelector('#df-075a5c52-9ff8-4768-8a21-675adc246b9f button.colab-df-convert');\n",
              "        buttonEl.style.display =\n",
              "          google.colab.kernel.accessAllowed ? 'block' : 'none';\n",
              "\n",
              "        async function convertToInteractive(key) {\n",
              "          const element = document.querySelector('#df-075a5c52-9ff8-4768-8a21-675adc246b9f');\n",
              "          const dataTable =\n",
              "            await google.colab.kernel.invokeFunction('convertToInteractive',\n",
              "                                                     [key], {});\n",
              "          if (!dataTable) return;\n",
              "\n",
              "          const docLinkHtml = 'Like what you see? Visit the ' +\n",
              "            '<a target=\"_blank\" href=https://colab.research.google.com/notebooks/data_table.ipynb>data table notebook</a>'\n",
              "            + ' to learn more about interactive tables.';\n",
              "          element.innerHTML = '';\n",
              "          dataTable['output_type'] = 'display_data';\n",
              "          await google.colab.output.renderOutput(dataTable, element);\n",
              "          const docLink = document.createElement('div');\n",
              "          docLink.innerHTML = docLinkHtml;\n",
              "          element.appendChild(docLink);\n",
              "        }\n",
              "      </script>\n",
              "    </div>\n",
              "  </div>\n",
              "  "
            ]
          },
          "metadata": {},
          "execution_count": 214
        }
      ]
    },
    {
      "cell_type": "markdown",
      "source": [
        "First scale the dataframe using StandardScaler function."
      ],
      "metadata": {
        "id": "AaK6IN_vqiDJ"
      }
    },
    {
      "cell_type": "code",
      "source": [
        "scaler = StandardScaler()\n",
        "df_scaled = scaler.fit_transform(df)"
      ],
      "metadata": {
        "id": "-9ZiC2CGGgOT"
      },
      "execution_count": null,
      "outputs": []
    },
    {
      "cell_type": "markdown",
      "source": [
        "Then, the normalize the dataframe using normalize function."
      ],
      "metadata": {
        "id": "WNegQg3IrFJH"
      }
    },
    {
      "cell_type": "code",
      "source": [
        "df_normalized = normalize(df_scaled)"
      ],
      "metadata": {
        "id": "zJdG_FwcGnXi"
      },
      "execution_count": null,
      "outputs": []
    },
    {
      "cell_type": "code",
      "source": [
        "df_normalized = pd.DataFrame(df_normalized)"
      ],
      "metadata": {
        "id": "QdNytskTGqTC"
      },
      "execution_count": null,
      "outputs": []
    },
    {
      "cell_type": "markdown",
      "source": [
        "Then, using the PCA function reduce the dimension of the dataframe.\n",
        "Because the large dataset, it is required to use PCA for better perfomance."
      ],
      "metadata": {
        "id": "bSyk5ISXrPLj"
      }
    },
    {
      "cell_type": "code",
      "source": [
        "pca = PCA(n_components = 2)\n",
        "df_principal = pca.fit_transform(df_normalized)\n",
        "df_principal = pd.DataFrame(df_principal)\n",
        "df_principal.columns = ['P1', 'P2']"
      ],
      "metadata": {
        "id": "Fcf8zxjjGxnU"
      },
      "execution_count": null,
      "outputs": []
    },
    {
      "cell_type": "code",
      "source": [
        "plt.figure(figsize =(15, 10))\n",
        "plt.title('Visualising the data')\n",
        "Dendrogram = shc.dendrogram((shc.linkage(df_principal, method ='ward')))"
      ],
      "metadata": {
        "colab": {
          "base_uri": "https://localhost:8080/",
          "height": 611
        },
        "id": "OkZxryPDG9qG",
        "outputId": "3331be9a-6a12-4587-dfe6-3ad3d9b0cffd"
      },
      "execution_count": null,
      "outputs": [
        {
          "output_type": "display_data",
          "data": {
            "text/plain": [
              "<Figure size 1080x720 with 1 Axes>"
            ],
            "image/png": "[encoded data removed]"
          },
          "metadata": {
            "needs_background": "light"
          }
        }
      ]
    },
    {
      "cell_type": "markdown",
      "source": [
        "Using agglomerative clustering plot scatter plot of 2 cluster."
      ],
      "metadata": {
        "id": "yehdni9Kfw_G"
      }
    },
    {
      "cell_type": "code",
      "source": [
        "ac2 = AgglomerativeClustering(n_clusters = 2)"
      ],
      "metadata": {
        "id": "ddyseFGsJ6W2"
      },
      "execution_count": null,
      "outputs": []
    },
    {
      "cell_type": "code",
      "source": [
        "plt.figure(figsize =(6, 6))\n",
        "plt.scatter(df_principal['P1'], df_principal['P2'],\n",
        "           c = ac2.fit_predict(df_principal), cmap ='rainbow')\n",
        "plt.show()"
      ],
      "metadata": {
        "colab": {
          "base_uri": "https://localhost:8080/",
          "height": 374
        },
        "id": "KNZXuS7rJtoU",
        "outputId": "eb004c99-483b-41e6-c19b-81abe9bd5f8f"
      },
      "execution_count": null,
      "outputs": [
        {
          "output_type": "display_data",
          "data": {
            "text/plain": [
              "<Figure size 432x432 with 1 Axes>"
            ],
            "image/png": "[encoded data removed]"
          },
          "metadata": {
            "needs_background": "light"
          }
        }
      ]
    },
    {
      "cell_type": "markdown",
      "source": [
        "## 4)Step-by-step K-means"
      ],
      "metadata": {
        "id": "BCGH931UIDue"
      }
    },
    {
      "cell_type": "markdown",
      "source": [
        "Import the essential library sucha s kmeans, metrics, cdist. "
      ],
      "metadata": {
        "id": "FnZHkXSNf-QB"
      }
    },
    {
      "cell_type": "code",
      "source": [
        "from sklearn.cluster import KMeans\n",
        "from sklearn import metrics\n",
        "from scipy.spatial.distance import cdist"
      ],
      "metadata": {
        "id": "SagDEu8CHRp6"
      },
      "execution_count": null,
      "outputs": []
    },
    {
      "cell_type": "markdown",
      "source": [
        "Take random 500 number."
      ],
      "metadata": {
        "id": "X9YpV8dVguP8"
      }
    },
    {
      "cell_type": "code",
      "source": [
        "np.random.seed(500)"
      ],
      "metadata": {
        "id": "Ny2g_aBEKtnM"
      },
      "execution_count": null,
      "outputs": []
    },
    {
      "cell_type": "markdown",
      "source": [
        "Intialize 2 cluster."
      ],
      "metadata": {
        "id": "BDePgqqDgx0y"
      }
    },
    {
      "cell_type": "code",
      "source": [
        "k =2"
      ],
      "metadata": {
        "id": "sYC3fvNrOhXE"
      },
      "execution_count": null,
      "outputs": []
    },
    {
      "cell_type": "markdown",
      "source": [
        "Take centroid based on the k value.\n"
      ],
      "metadata": {
        "id": "QvcLs6lXg34j"
      }
    },
    {
      "cell_type": "code",
      "source": [
        "centroid = {\n",
        "    i+1:[np.random.randint(0,10),np.random.randint(0,10)]\n",
        "    for i in range(k)\n",
        "}"
      ],
      "metadata": {
        "id": "T7K9U1Q-OjZv"
      },
      "execution_count": null,
      "outputs": []
    },
    {
      "cell_type": "markdown",
      "source": [
        "plot the scatter plot for the action and adventure column and try to find best cluster."
      ],
      "metadata": {
        "id": "NfPMGSiEiV4N"
      }
    },
    {
      "cell_type": "code",
      "source": [
        "fig  = plt.figure(figsize = (5,5))\n",
        "plt.scatter(dataset['action'],dataset['adventure'],color = 'k')\n",
        "colmap  = {1:'r',2:'g'}\n",
        "for i in centroid.keys():\n",
        "  plt.scatter(*centroid[i],color = colmap[i])\n",
        "plt.xlim(0,10)\n",
        "plt.ylim(0,10)\n",
        "plt.show()\n",
        "\n"
      ],
      "metadata": {
        "colab": {
          "base_uri": "https://localhost:8080/",
          "height": 324
        },
        "id": "loo8Yr4DO-9R",
        "outputId": "9520f5c8-470f-4476-f7c2-16991a1c66d7"
      },
      "execution_count": null,
      "outputs": [
        {
          "output_type": "display_data",
          "data": {
            "text/plain": [
              "<Figure size 360x360 with 1 Axes>"
            ],
            "image/png": "[encoded data removed]"
          },
          "metadata": {
            "needs_background": "light"
          }
        }
      ]
    },
    {
      "cell_type": "markdown",
      "source": [
        "Define the function for my dataset and for centroid using action and adventure column.\n",
        "print the function."
      ],
      "metadata": {
        "id": "TpsNe2rjihXc"
      }
    },
    {
      "cell_type": "code",
      "source": [
        "def assignment(dataset,centroid):\n",
        "  for i in centroid.keys():\n",
        "    dataset['distance_from_{}'.format(i)]=(\n",
        "        np.sqrt((dataset['action']-centroid[i][0])**2\n",
        "                + (dataset['adventure'] - centroid[i][1])**2\n",
        "                )\n",
        "    )\n",
        "  centroid_distance_cols =  ['distance_from_{}'.format(i) for i in centroid.keys()]\n",
        "  dataset['closet'] =dataset.loc[:,centroid_distance_cols].idxmin(axis =1)\n",
        "  dataset['closet'] = dataset['closet'].map(lambda x: int(x.lstrip('distance_from_')))\n",
        "  dataset['color']  = dataset['closet'].map( lambda x:colmap[x])\n",
        "  return dataset\n",
        "\n",
        "dataset = assignment(dataset,centroid)\n",
        "print(dataset.head())   \n",
        "\n",
        "fig  = plt.figure(figsize = (8,8))\n",
        "plt.scatter(dataset['action'],dataset['adventure'],color = dataset['color'],alpha= 0.5,edgecolors='k')\n",
        "\n",
        "for i in centroid.keys():\n",
        "  plt.scatter(*centroid[i],color = colmap[i])\n",
        "plt.xlim(0,10)\n",
        "plt.ylim(0,10)\n",
        "plt.show()"
      ],
      "metadata": {
        "colab": {
          "base_uri": "https://localhost:8080/",
          "height": 1000
        },
        "id": "tNec2jIrQCHE",
        "outputId": "5d46ccfd-a252-42ec-a65d-da6e7e06c098"
      },
      "execution_count": null,
      "outputs": [
        {
          "output_type": "stream",
          "name": "stdout",
          "text": [
            "               Name  action  adventure  comedy  crime  drama  fantasy  \\\n",
            "0             Akbar     9.9        9.9     9.8    8.5    5.4      7.9   \n",
            "1               Ali     6.0        6.0     6.0    5.0    7.0      3.0   \n",
            "2             Anh T     8.9        7.5     5.1    9.4    6.6      7.2   \n",
            "3  Brandon Inoshita     8.9        9.1     5.6    6.1    1.2      9.3   \n",
            "4     Changhao Dong     4.0        5.4     8.3    6.5    2.3      1.3   \n",
            "\n",
            "   fiction  horror  mystery  ...  thriller  documentry  animated  \\\n",
            "0      8.9     9.9      6.9  ...       9.5         3.8       7.4   \n",
            "1     10.0     3.0      7.0  ...       5.0         9.0       7.0   \n",
            "2      5.5     4.6      7.7  ...       9.5         2.2       4.8   \n",
            "3      9.0     6.2      6.3  ...       8.3         7.2       9.7   \n",
            "4      6.8     7.6      4.5  ...       3.4         7.5       5.5   \n",
            "\n",
            "                     watch movies per week         movie prefered  \\\n",
            "0        D. 4) Three to four movies a week           D. Spiderman   \n",
            "1                   B. 2) One movie a week  A. Star Wars E. Mulan   \n",
            "2        D. 4) Three to four movies a week           D. Spiderman   \n",
            "3                  C. 3) Two movies a week           A. Star Wars   \n",
            "4  A. 1) zero movies. I don't watch movies           C. Gladiator   \n",
            "\n",
            "                                         5_adjective distance_from_1  \\\n",
            "0               Sociable Friendly chatty loyal Happy        9.360556   \n",
            "1  Motivated, Reliable, Intuitive, Independent, A...        5.099020   \n",
            "2       - Quiet - Introverted - Happy - Slow - Funny        6.772001   \n",
            "3           -Slow -Anxious -Awkward -Happy -Diligent        8.319856   \n",
            "4            - Cocky - Happy - Young - Tender - Slow        5.325411   \n",
            "\n",
            "   distance_from_2  closet  color  \n",
            "0         9.100549       2      g  \n",
            "1         5.385165       1      r  \n",
            "2         7.915807       1      r  \n",
            "3         7.976215       2      g  \n",
            "4         3.969887       2      g  \n",
            "\n",
            "[5 rows x 21 columns]\n"
          ]
        },
        {
          "output_type": "display_data",
          "data": {
            "text/plain": [
              "<Figure size 576x576 with 1 Axes>"
            ],
            "image/png": "[encoded data removed]"
          },
          "metadata": {
            "needs_background": "light"
          }
        }
      ]
    },
    {
      "cell_type": "markdown",
      "source": [
        "Take older centroid and again try to built new function and try make proper cluster."
      ],
      "metadata": {
        "id": "eVs0_d35lmct"
      }
    },
    {
      "cell_type": "code",
      "source": [
        "import copy\n",
        "old_centroid = copy.deepcopy(centroid)\n",
        "\n",
        "def update(k):\n",
        "  for i in centroid.keys():\n",
        "    centroid[i][0] = np.mean(dataset[dataset['closet']==i]['action'])\n",
        "    centroid[i][0] = np.mean(dataset[dataset['closet']==i]['adventure'])\n",
        "    return k\n",
        "centroid = update(centroid) \n",
        "\n",
        "fig  = plt.figure(figsize = (8,8))\n",
        "ax =plt.axes()\n",
        "plt.scatter(dataset['action'],dataset['adventure'],color = dataset['color'],alpha= 0.5,edgecolors='k')\n",
        "for i in centroid.keys():\n",
        "  plt.scatter(*centroid[i],color = colmap[i])\n",
        "plt.xlim(0,10)\n",
        "plt.ylim(0,10)\n",
        "\n",
        "for i in centroid.keys():\n",
        "  old_x =old_centroid[i][0]\n",
        "  old_y =old_centroid[i][1]\n",
        "  dx = (centroid [i][0] -old_centroid[i][0]) *0.75\n",
        "  dy = (centroid [i][1] -old_centroid[i][1]) *0.75\n",
        "  ax.arrow(old_x,old_y,dx,dy,head_width =0.5, head_length =0.5,fc = colmap[i],ec = colmap[i])\n",
        "plt.show()\n",
        "\n",
        "\n",
        "\n",
        "\n",
        "\n"
      ],
      "metadata": {
        "colab": {
          "base_uri": "https://localhost:8080/",
          "height": 487
        },
        "id": "3hOga53AS_Lp",
        "outputId": "ee068203-6c8a-477b-acd4-61aeb9293f8f"
      },
      "execution_count": null,
      "outputs": [
        {
          "output_type": "display_data",
          "data": {
            "text/plain": [
              "<Figure size 576x576 with 1 Axes>"
            ],
            "image/png": "[encoded data removed]"
          },
          "metadata": {
            "needs_background": "light"
          }
        }
      ]
    },
    {
      "cell_type": "markdown",
      "source": [
        "Try to iterate again and again to plot best plot."
      ],
      "metadata": {
        "id": "PB7atF2_mgqm"
      }
    },
    {
      "cell_type": "code",
      "source": [
        "dataset = assignment(dataset,centroid)\n",
        "fig  = plt.figure(figsize = (8,8))\n",
        "plt.scatter(dataset['action'],dataset['adventure'],color = dataset['color'],alpha= 0.5,edgecolors='k')\n",
        "\n",
        "for i in centroid.keys():\n",
        "  plt.scatter(*centroid[i],color = colmap[i])\n",
        "plt.xlim(0,10)\n",
        "plt.ylim(0,10)\n",
        "plt.show()"
      ],
      "metadata": {
        "colab": {
          "base_uri": "https://localhost:8080/",
          "height": 487
        },
        "id": "ZyYZylexYSUE",
        "outputId": "c1c0a664-44b9-4184-b51e-47766b195c18"
      },
      "execution_count": null,
      "outputs": [
        {
          "output_type": "display_data",
          "data": {
            "text/plain": [
              "<Figure size 576x576 with 1 Axes>"
            ],
            "image/png": "[encoded data removed]"
          },
          "metadata": {
            "needs_background": "light"
          }
        }
      ]
    },
    {
      "cell_type": "code",
      "source": [
        "while True:\n",
        "  closet_centroid = dataset['closet'].copy(deep= True)\n",
        "  centroid  =update(centroid)\n",
        "  dataset = assignment(dataset,centroid)\n",
        "  if closet_centroid.equals(dataset['closet']):\n",
        "    break\n",
        "\n",
        "fig  = plt.figure(figsize = (8,8))\n",
        "plt.scatter(dataset['action'],dataset['adventure'],color = dataset['color'],alpha= 0.5,edgecolors='k')\n",
        "\n",
        "for i in centroid.keys():\n",
        "  plt.scatter(*centroid[i],color = colmap[i])\n",
        "plt.xlim(0,10)\n",
        "plt.ylim(0,10)\n",
        "plt.show()\n"
      ],
      "metadata": {
        "colab": {
          "base_uri": "https://localhost:8080/",
          "height": 487
        },
        "id": "MJEImDF_ZBTg",
        "outputId": "9d9ec452-4528-4073-d087-59c48238a6cb"
      },
      "execution_count": null,
      "outputs": [
        {
          "output_type": "display_data",
          "data": {
            "text/plain": [
              "<Figure size 576x576 with 1 Axes>"
            ],
            "image/png": "[encoded data removed]"
          },
          "metadata": {
            "needs_background": "light"
          }
        }
      ]
    },
    {
      "cell_type": "markdown",
      "source": [
        "## 5) sklearn.cluster"
      ],
      "metadata": {
        "id": "cbXynP-ckY-X"
      }
    },
    {
      "cell_type": "markdown",
      "source": [
        "Find the kmeans using sklearn.cluster function.\n",
        "\n",
        "import the sklearn.culster function."
      ],
      "metadata": {
        "id": "F9JKyfkLnHmZ"
      }
    },
    {
      "cell_type": "code",
      "source": [
        "from sklearn.cluster import KMeans"
      ],
      "metadata": {
        "id": "gEBJvF9_aAop"
      },
      "execution_count": null,
      "outputs": []
    },
    {
      "cell_type": "code",
      "source": [
        "np.isnan(dataset.any()) \n",
        "np.isfinite(dataset.all())"
      ],
      "metadata": {
        "colab": {
          "base_uri": "https://localhost:8080/"
        },
        "id": "apdMJrJ9b7Z5",
        "outputId": "87d83799-ed52-43be-c502-f8d75757a658"
      },
      "execution_count": null,
      "outputs": [
        {
          "output_type": "execute_result",
          "data": {
            "text/plain": [
              "Name                     True\n",
              "action                   True\n",
              "adventure                True\n",
              "comedy                   True\n",
              "crime                    True\n",
              "drama                    True\n",
              "fantasy                  True\n",
              "fiction                  True\n",
              "horror                   True\n",
              "mystery                  True\n",
              "romance                  True\n",
              "thriller                 True\n",
              "documentry               True\n",
              "animated                 True\n",
              "watch movies per week    True\n",
              "movie prefered           True\n",
              "5_adjective              True\n",
              "distance_from_1          True\n",
              "distance_from_2          True\n",
              "closet                   True\n",
              "color                    True\n",
              "dtype: bool"
            ]
          },
          "metadata": {},
          "execution_count": 232
        }
      ]
    },
    {
      "cell_type": "markdown",
      "source": [
        "Select the action and adventure parameter for clustring.\n",
        "\n",
        "fit to kmeans.\n",
        "\n"
      ],
      "metadata": {
        "id": "HiSIoACHnfrb"
      }
    },
    {
      "cell_type": "code",
      "source": [
        "kmeans = KMeans(n_clusters=2)\n",
        "x = dataset.iloc[ : , 1:3]\n",
        "kmeans.fit(x)"
      ],
      "metadata": {
        "colab": {
          "base_uri": "https://localhost:8080/"
        },
        "id": "5LvyqYkBaxgv",
        "outputId": "1862137c-53ce-4513-f408-3815b2a6cb0f"
      },
      "execution_count": null,
      "outputs": [
        {
          "output_type": "execute_result",
          "data": {
            "text/plain": [
              "KMeans(n_clusters=2)"
            ]
          },
          "metadata": {},
          "execution_count": 233
        }
      ]
    },
    {
      "cell_type": "markdown",
      "source": [
        "Make the labels."
      ],
      "metadata": {
        "id": "1UlcipGgnvCf"
      }
    },
    {
      "cell_type": "code",
      "source": [
        "kmeans.labels_"
      ],
      "metadata": {
        "colab": {
          "base_uri": "https://localhost:8080/"
        },
        "id": "TGRGIDD-bAWn",
        "outputId": "5d50b802-defd-417d-b739-d355ba891027"
      },
      "execution_count": null,
      "outputs": [
        {
          "output_type": "execute_result",
          "data": {
            "text/plain": [
              "array([1, 0, 1, 1, 0, 1, 0, 0, 0, 1, 0, 1, 0, 1, 1, 1, 1, 0, 0, 1, 1, 0,\n",
              "       1, 1, 1, 1, 1, 0, 1, 1, 1, 1, 0, 0, 1, 1, 1], dtype=int32)"
            ]
          },
          "metadata": {},
          "execution_count": 234
        }
      ]
    },
    {
      "cell_type": "markdown",
      "source": [
        "plot the scatter plot for the action and adventure and visualize the cluster."
      ],
      "metadata": {
        "id": "c3A9zg3Vn06Q"
      }
    },
    {
      "cell_type": "code",
      "source": [
        "fig = plt.figure(figsize=(8, 13))\n",
        "colormap = np.array(['green', 'red', 'blue'])\n",
        " \n",
        "plt.scatter(x.action, x.adventure,c = colormap[kmeans.labels_], edgecolor = 'black', s=80)\n",
        "plt.title('K Mean Classification')\n",
        "plt.xlabel('PURCHASES')\n",
        "plt.ylabel('PURCHASES_FREQUENCY')"
      ],
      "metadata": {
        "colab": {
          "base_uri": "https://localhost:8080/",
          "height": 802
        },
        "id": "xIMKPLR0ciNB",
        "outputId": "3df07e5f-ada7-4526-a4bb-457242c4c566"
      },
      "execution_count": null,
      "outputs": [
        {
          "output_type": "execute_result",
          "data": {
            "text/plain": [
              "Text(0, 0.5, 'PURCHASES_FREQUENCY')"
            ]
          },
          "metadata": {},
          "execution_count": 235
        },
        {
          "output_type": "display_data",
          "data": {
            "text/plain": [
              "<Figure size 576x936 with 1 Axes>"
            ],
            "image/png": "[encoded data removed]"
          },
          "metadata": {
            "needs_background": "light"
          }
        }
      ]
    },
    {
      "cell_type": "markdown",
      "source": [
        "##6) Prediction"
      ],
      "metadata": {
        "id": "Js1I_oyN09kG"
      }
    },
    {
      "cell_type": "markdown",
      "source": [
        "Import the Tfidvectorizer and adjusted_rand_score library."
      ],
      "metadata": {
        "id": "ciW31ieiFdzg"
      }
    },
    {
      "cell_type": "code",
      "source": [
        "from sklearn.feature_extraction.text import TfidfVectorizer\n",
        "from sklearn.metrics import adjusted_rand_score"
      ],
      "metadata": {
        "id": "4CpF98dScv5z"
      },
      "execution_count": null,
      "outputs": []
    },
    {
      "cell_type": "markdown",
      "source": [
        "Convert the 5 adjective into the 4 cluster."
      ],
      "metadata": {
        "id": "cyNjxEANFlen"
      }
    },
    {
      "cell_type": "code",
      "source": [
        "vectorizer = TfidfVectorizer(stop_words='english')\n",
        "X = vectorizer.fit_transform(dataset['5_adjective'])\n",
        "k = 4\n",
        "\n",
        "model = KMeans(n_clusters = k, init = 'k-means++', max_iter = 100000, n_init = 1)\n",
        "model.fit(X)\n",
        "\n",
        "print(\"Top terms per cluster:\")\n",
        "order_centroids = model.cluster_centers_.argsort()[:, ::-1]\n",
        "terms = vectorizer.get_feature_names()\n",
        "\n",
        "for i in range(k):\n",
        "    print(\"Cluster %d:\" % i),\n",
        "    for ind in order_centroids[i, :10]:\n",
        "        print(' %s' % terms[ind]),\n",
        "    print"
      ],
      "metadata": {
        "colab": {
          "base_uri": "https://localhost:8080/"
        },
        "id": "tRmJhgX1wcQ_",
        "outputId": "ef5676d3-711f-47e3-afe7-03e5ed711b45"
      },
      "execution_count": null,
      "outputs": [
        {
          "output_type": "stream",
          "name": "stdout",
          "text": [
            "Top terms per cluster:\n",
            "Cluster 0:\n",
            " slow\n",
            " relaxed\n",
            " happy\n",
            " dedicated\n",
            " energetic\n",
            " calm\n",
            " joking\n",
            " intelligent\n",
            " free\n",
            " strong\n",
            "Cluster 1:\n",
            " social\n",
            " motivated\n",
            " humble\n",
            " friendly\n",
            " independent\n",
            " focused\n",
            " active\n",
            " brave\n",
            " intuitive\n",
            " reliable\n",
            "Cluster 2:\n",
            " kind\n",
            " funny\n",
            " friendly\n",
            " happy\n",
            " charming\n",
            " proud\n",
            " introverted\n",
            " quiet\n",
            " true\n",
            " indisciplined\n",
            "Cluster 3:\n",
            " capable\n",
            " friendly\n",
            " sociable\n",
            " happy\n",
            " fast\n",
            " emotional\n",
            " good\n",
            " introvert\n",
            " chatty\n",
            " adventurous\n"
          ]
        },
        {
          "output_type": "stream",
          "name": "stderr",
          "text": [
            "/usr/local/lib/python3.7/dist-packages/sklearn/utils/deprecation.py:87: FutureWarning: Function get_feature_names is deprecated; get_feature_names is deprecated in 1.0 and will be removed in 1.2. Please use get_feature_names_out instead.\n",
            "  warnings.warn(msg, category=FutureWarning)\n"
          ]
        }
      ]
    },
    {
      "cell_type": "markdown",
      "source": [
        "## 7) summary"
      ],
      "metadata": {
        "id": "g4skPFpbA1ro"
      }
    },
    {
      "cell_type": "markdown",
      "source": [
        "First import data using the read_csv function. Then, remove unnecessary columns and remove null values using the dropna function. Then convert the columns name into appropriate names. For data exploratory, understand the types of columns, using the describe command to find the different attributes of the numerical data such as count, mean, standard deviation, quartile of 25, 50, and 75, and find min and max values of numerical data. Then for plotting the dendrogram, first standardize and then normalize the dataset and using the PCA function plot the dendrogram. for finding Kmeans, define the function and iterate again and again. Using sklearn.cluster function plot the kmeans directly. for prediction, I divide 5 adjective columns into four clusters."
      ],
      "metadata": {
        "id": "OJ4MEIe0B0E-"
      }
    }
  ]
}