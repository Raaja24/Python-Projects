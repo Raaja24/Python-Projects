{
  "nbformat": 4,
  "nbformat_minor": 0,
  "metadata": {
    "colab": {
      "provenance": []
    },
    "kernelspec": {
      "name": "python3",
      "display_name": "Python 3"
    },
    "language_info": {
      "name": "python"
    }
  },
  "cells": [
    {
      "cell_type": "code",
      "execution_count": null,
      "metadata": {
        "id": "PFENL2fUE6O_"
      },
      "outputs": [],
      "source": [
        "import numpy as np\n",
        "import pandas as pd"
      ]
    },
    {
      "cell_type": "code",
      "source": [
        "india = {\"Regin\" : \"South Asia\",\n",
        "         \"Area\" : 3287259 ,\n",
        "         \"Official Language\" : \"Hindi\",\n",
        "         \"Government\" : \"Federal parliamentary republic\",\n",
        "        \"Indepence\" : 1947,\n",
        "         \"Population\": 1393409000,\n",
        "         \"Populationdensity\" : 423,\n",
        "         \"Lifeexpentency\" : 69,\n",
        "         \"costofliving\" : 45}"
      ],
      "metadata": {
        "id": "rwjUMqI5FCSx"
      },
      "execution_count": null,
      "outputs": []
    },
    {
      "cell_type": "code",
      "source": [
        "india"
      ],
      "metadata": {
        "colab": {
          "base_uri": "https://localhost:8080/"
        },
        "id": "Ne_W3gIB74AE",
        "outputId": "7949250b-295e-4717-fb4e-b5cb62d0126a"
      },
      "execution_count": null,
      "outputs": [
        {
          "output_type": "execute_result",
          "data": {
            "text/plain": [
              "{'Regin': 'South Asia',\n",
              " 'Area': 3287259,\n",
              " 'Official Language': 'Hindi',\n",
              " 'Government': 'Federal parliamentary republic',\n",
              " 'Indepence': 1947,\n",
              " 'Population': 1393409000,\n",
              " 'Populationdensity': 423,\n",
              " 'Lifeexpentency': 69,\n",
              " 'costofliving': 45}"
            ]
          },
          "metadata": {},
          "execution_count": 142
        }
      ]
    },
    {
      "cell_type": "code",
      "source": [
        "pakistan = {\"Regin\": \"South Asia\",\n",
        "         \"Area\": 796100 ,\n",
        "         \"Official Language\": \"urdu\",\n",
        "         \"Government\": \"Federal parliamentary republic\",\n",
        "        \"Indepence\": 1947,\n",
        "         \"Population\": 225200000,\n",
        "         \"Populationdensity\": 282.9,\n",
        "         \"Lifeexpentency\": 66,\n",
        "         \"costofliving\": 63\n",
        "\n",
        "         }"
      ],
      "metadata": {
        "id": "N_RCDlONGdJI"
      },
      "execution_count": null,
      "outputs": []
    },
    {
      "cell_type": "code",
      "source": [
        "pakistan"
      ],
      "metadata": {
        "colab": {
          "base_uri": "https://localhost:8080/"
        },
        "id": "vjwKrZvK78G0",
        "outputId": "8c38b3ae-eb2a-4a90-814a-e7ad8883e04b"
      },
      "execution_count": null,
      "outputs": [
        {
          "output_type": "execute_result",
          "data": {
            "text/plain": [
              "{'Regin': 'South Asia',\n",
              " 'Area': 796100,\n",
              " 'Official Language': 'urdu',\n",
              " 'Government': 'Federal parliamentary republic',\n",
              " 'Indepence': 1947,\n",
              " 'Population': 225200000,\n",
              " 'Populationdensity': 282.9,\n",
              " 'Lifeexpentency': 66,\n",
              " 'costofliving': 63}"
            ]
          },
          "metadata": {},
          "execution_count": 144
        }
      ]
    },
    {
      "cell_type": "code",
      "source": [
        "Russia = {\"Regin\": \"Eastern Europe\",\n",
        "         \"Area\":17098250 ,\n",
        "         \"Official Language\": \"Russian\",\n",
        "         \"Government\": \"Federal republic\",\n",
        "        \"Indepence\":1991,\n",
        "         \"Population\":143446000,\n",
        "         \"Populationdensity\":8.4,\n",
        "         \"Lifeexpentency\":66,\n",
        "         \"costofliving\":62}\n",
        "\n",
        "         "
      ],
      "metadata": {
        "id": "eyEWeJj-IVMw"
      },
      "execution_count": null,
      "outputs": []
    },
    {
      "cell_type": "code",
      "source": [
        "Russia"
      ],
      "metadata": {
        "colab": {
          "base_uri": "https://localhost:8080/"
        },
        "id": "6GiyK-n07-ES",
        "outputId": "226e2cc4-cc94-4486-c704-82f97e9c9b41"
      },
      "execution_count": null,
      "outputs": [
        {
          "output_type": "execute_result",
          "data": {
            "text/plain": [
              "{'Regin': 'Eastern Europe',\n",
              " 'Area': 17098250,\n",
              " 'Official Language': 'Russian',\n",
              " 'Government': 'Federal republic',\n",
              " 'Indepence': 1991,\n",
              " 'Population': 143446000,\n",
              " 'Populationdensity': 8.4,\n",
              " 'Lifeexpentency': 66,\n",
              " 'costofliving': 62}"
            ]
          },
          "metadata": {},
          "execution_count": 146
        }
      ]
    },
    {
      "cell_type": "code",
      "source": [
        "Vietnam= {\"Regin\": \"South Asia\",\n",
        "         \"Area\":331230 ,\n",
        "         \"Official Language\": \"Vietnamese\",\n",
        "         \"Government\":  \"republic\",\n",
        "        \"Indepence\":1945,\n",
        "         \"Population\":98169000,\n",
        "         \"Populationdensity\":296.4,\n",
        "         \"Lifeexpentency\":71,\n",
        "         \"costofliving\":51}\n",
        "\n",
        "         "
      ],
      "metadata": {
        "id": "BPY_9sr4JUvp"
      },
      "execution_count": null,
      "outputs": []
    },
    {
      "cell_type": "code",
      "source": [
        "Vietnam"
      ],
      "metadata": {
        "colab": {
          "base_uri": "https://localhost:8080/"
        },
        "id": "opQc1dm68AVU",
        "outputId": "7b5ceefc-fd1b-4c0b-c4f9-e682e541950b"
      },
      "execution_count": null,
      "outputs": [
        {
          "output_type": "execute_result",
          "data": {
            "text/plain": [
              "{'Regin': 'South Asia',\n",
              " 'Area': 331230,\n",
              " 'Official Language': 'Vietnamese',\n",
              " 'Government': 'republic',\n",
              " 'Indepence': 1945,\n",
              " 'Population': 98169000,\n",
              " 'Populationdensity': 296.4,\n",
              " 'Lifeexpentency': 71,\n",
              " 'costofliving': 51}"
            ]
          },
          "metadata": {},
          "execution_count": 148
        }
      ]
    },
    {
      "cell_type": "code",
      "source": [
        "Israel = {\"Regin\": \"western asia\",\n",
        "         \"Area\":22070 ,\n",
        "         \"Official Language\": \"hebrew\",\n",
        "         \"Government\": \"Parliamentary republic democracy\",\n",
        "        \"Indepence\":1948,\n",
        "         \"Population\":9364000,\n",
        "         \"Populationdensity\":424.3,\n",
        "         \"Lifeexpentency\":81,\n",
        "         \"costofliving\":36}"
      ],
      "metadata": {
        "id": "T4yyyP1NJZGs"
      },
      "execution_count": null,
      "outputs": []
    },
    {
      "cell_type": "code",
      "source": [
        "Israel"
      ],
      "metadata": {
        "colab": {
          "base_uri": "https://localhost:8080/"
        },
        "id": "dcp9Xwzp8Ct3",
        "outputId": "5dcab41c-6a9f-41e6-8fbc-a4aa5aaddc72"
      },
      "execution_count": null,
      "outputs": [
        {
          "output_type": "execute_result",
          "data": {
            "text/plain": [
              "{'Regin': 'western asia',\n",
              " 'Area': 22070,\n",
              " 'Official Language': 'hebrew',\n",
              " 'Government': 'Parliamentary republic democracy',\n",
              " 'Indepence': 1948,\n",
              " 'Population': 9364000,\n",
              " 'Populationdensity': 424.3,\n",
              " 'Lifeexpentency': 81,\n",
              " 'costofliving': 36}"
            ]
          },
          "metadata": {},
          "execution_count": 150
        }
      ]
    },
    {
      "cell_type": "code",
      "source": [
        "Argentina = {\"Regin\" : \"south america\",\n",
        "         \"Area\" :2780400 ,\n",
        "         \"Official Language\" : \"spanish\",\n",
        "         \"Government\" : \"Presidential republic\",\n",
        "        \"Indepence\": 1816,\n",
        "         \"Population\" : 45809000,\n",
        "         \"Populationdensity\" : 16.5,\n",
        "         \"Lifeexpentency\" : 73,\n",
        "         \"costofliving\" : 41}"
      ],
      "metadata": {
        "id": "kKmtbCESKfCo"
      },
      "execution_count": null,
      "outputs": []
    },
    {
      "cell_type": "code",
      "source": [
        "Jordan = {\"Regin\" : \"western asia\",\n",
        "        \"Area\": 89320 ,\n",
        "        \"Official Language\" : \"Arabic\",\n",
        "        \"Government\" : \"Parliamentary constitutional monarchy\",\n",
        "        \"Indepence\" : 1946,\n",
        "        \"Population\" : 10269000,\n",
        "        \"Populationdensity\" : 115,\n",
        "        \"Lifeexpentency\" : 76,\n",
        "        \"costofliving\" : 45}"
      ],
      "metadata": {
        "id": "JXk-nXK420H8"
      },
      "execution_count": null,
      "outputs": []
    },
    {
      "cell_type": "code",
      "source": [
        "df = pd.DataFrame([india,pakistan,Russia,Argentina,Israel,Vietnam,Jordan], index =['india','pakistan','Russia','Argentina','Israel','Vietnam','Jordan'] )"
      ],
      "metadata": {
        "id": "USb8u-K3K56e"
      },
      "execution_count": null,
      "outputs": []
    },
    {
      "cell_type": "code",
      "source": [
        "df"
      ],
      "metadata": {
        "colab": {
          "base_uri": "https://localhost:8080/",
          "height": 313
        },
        "id": "XFqxAOMKLjvF",
        "outputId": "49b17dbd-fa33-4313-f24f-0a21b8bb1de0"
      },
      "execution_count": null,
      "outputs": [
        {
          "output_type": "execute_result",
          "data": {
            "text/plain": [
              "                    Regin      Area Official Language  \\\n",
              "india          South Asia   3287259             Hindi   \n",
              "pakistan       South Asia    796100              urdu   \n",
              "Russia     Eastern Europe  17098250           Russian   \n",
              "Argentina   south america   2780400           spanish   \n",
              "Israel       western asia     22070            hebrew   \n",
              "Vietnam        South Asia    331230        Vietnamese   \n",
              "Jordan       western asia     89320            Arabic   \n",
              "\n",
              "                                      Government  Indepence  Population  \\\n",
              "india             Federal parliamentary republic       1947  1393409000   \n",
              "pakistan          Federal parliamentary republic       1947   225200000   \n",
              "Russia                          Federal republic       1991   143446000   \n",
              "Argentina                  Presidential republic       1816    45809000   \n",
              "Israel          Parliamentary republic democracy       1948     9364000   \n",
              "Vietnam                                 republic       1945    98169000   \n",
              "Jordan     Parliamentary constitutional monarchy       1946    10269000   \n",
              "\n",
              "           Populationdensity  Lifeexpentency  costofliving  \n",
              "india                  423.0              69            45  \n",
              "pakistan               282.9              66            63  \n",
              "Russia                   8.4              66            62  \n",
              "Argentina               16.5              73            41  \n",
              "Israel                 424.3              81            36  \n",
              "Vietnam                296.4              71            51  \n",
              "Jordan                 115.0              76            45  "
            ],
            "text/html": [
              "\n",
              "  <div id=\"df-a91640e4-7145-4e8e-a4dd-081ddefc9f9d\">\n",
              "    <div class=\"colab-df-container\">\n",
              "      <div>\n",
              "<style scoped>\n",
              "    .dataframe tbody tr th:only-of-type {\n",
              "        vertical-align: middle;\n",
              "    }\n",
              "\n",
              "    .dataframe tbody tr th {\n",
              "        vertical-align: top;\n",
              "    }\n",
              "\n",
              "    .dataframe thead th {\n",
              "        text-align: right;\n",
              "    }\n",
              "</style>\n",
              "<table border=\"1\" class=\"dataframe\">\n",
              "  <thead>\n",
              "    <tr style=\"text-align: right;\">\n",
              "      <th></th>\n",
              "      <th>Regin</th>\n",
              "      <th>Area</th>\n",
              "      <th>Official Language</th>\n",
              "      <th>Government</th>\n",
              "      <th>Indepence</th>\n",
              "      <th>Population</th>\n",
              "      <th>Populationdensity</th>\n",
              "      <th>Lifeexpentency</th>\n",
              "      <th>costofliving</th>\n",
              "    </tr>\n",
              "  </thead>\n",
              "  <tbody>\n",
              "    <tr>\n",
              "      <th>india</th>\n",
              "      <td>South Asia</td>\n",
              "      <td>3287259</td>\n",
              "      <td>Hindi</td>\n",
              "      <td>Federal parliamentary republic</td>\n",
              "      <td>1947</td>\n",
              "      <td>1393409000</td>\n",
              "      <td>423.0</td>\n",
              "      <td>69</td>\n",
              "      <td>45</td>\n",
              "    </tr>\n",
              "    <tr>\n",
              "      <th>pakistan</th>\n",
              "      <td>South Asia</td>\n",
              "      <td>796100</td>\n",
              "      <td>urdu</td>\n",
              "      <td>Federal parliamentary republic</td>\n",
              "      <td>1947</td>\n",
              "      <td>225200000</td>\n",
              "      <td>282.9</td>\n",
              "      <td>66</td>\n",
              "      <td>63</td>\n",
              "    </tr>\n",
              "    <tr>\n",
              "      <th>Russia</th>\n",
              "      <td>Eastern Europe</td>\n",
              "      <td>17098250</td>\n",
              "      <td>Russian</td>\n",
              "      <td>Federal republic</td>\n",
              "      <td>1991</td>\n",
              "      <td>143446000</td>\n",
              "      <td>8.4</td>\n",
              "      <td>66</td>\n",
              "      <td>62</td>\n",
              "    </tr>\n",
              "    <tr>\n",
              "      <th>Argentina</th>\n",
              "      <td>south america</td>\n",
              "      <td>2780400</td>\n",
              "      <td>spanish</td>\n",
              "      <td>Presidential republic</td>\n",
              "      <td>1816</td>\n",
              "      <td>45809000</td>\n",
              "      <td>16.5</td>\n",
              "      <td>73</td>\n",
              "      <td>41</td>\n",
              "    </tr>\n",
              "    <tr>\n",
              "      <th>Israel</th>\n",
              "      <td>western asia</td>\n",
              "      <td>22070</td>\n",
              "      <td>hebrew</td>\n",
              "      <td>Parliamentary republic democracy</td>\n",
              "      <td>1948</td>\n",
              "      <td>9364000</td>\n",
              "      <td>424.3</td>\n",
              "      <td>81</td>\n",
              "      <td>36</td>\n",
              "    </tr>\n",
              "    <tr>\n",
              "      <th>Vietnam</th>\n",
              "      <td>South Asia</td>\n",
              "      <td>331230</td>\n",
              "      <td>Vietnamese</td>\n",
              "      <td>republic</td>\n",
              "      <td>1945</td>\n",
              "      <td>98169000</td>\n",
              "      <td>296.4</td>\n",
              "      <td>71</td>\n",
              "      <td>51</td>\n",
              "    </tr>\n",
              "    <tr>\n",
              "      <th>Jordan</th>\n",
              "      <td>western asia</td>\n",
              "      <td>89320</td>\n",
              "      <td>Arabic</td>\n",
              "      <td>Parliamentary constitutional monarchy</td>\n",
              "      <td>1946</td>\n",
              "      <td>10269000</td>\n",
              "      <td>115.0</td>\n",
              "      <td>76</td>\n",
              "      <td>45</td>\n",
              "    </tr>\n",
              "  </tbody>\n",
              "</table>\n",
              "</div>\n",
              "      <button class=\"colab-df-convert\" onclick=\"convertToInteractive('df-a91640e4-7145-4e8e-a4dd-081ddefc9f9d')\"\n",
              "              title=\"Convert this dataframe to an interactive table.\"\n",
              "              style=\"display:none;\">\n",
              "        \n",
              "  <svg xmlns=\"http://www.w3.org/2000/svg\" height=\"24px\"viewBox=\"0 0 24 24\"\n",
              "       width=\"24px\">\n",
              "    <path d=\"M0 0h24v24H0V0z\" fill=\"none\"/>\n",
              "    <path d=\"M18.56 5.44l.94 2.06.94-2.06 2.06-.94-2.06-.94-.94-2.06-.94 2.06-2.06.94zm-11 1L8.5 8.5l.94-2.06 2.06-.94-2.06-.94L8.5 2.5l-.94 2.06-2.06.94zm10 10l.94 2.06.94-2.06 2.06-.94-2.06-.94-.94-2.06-.94 2.06-2.06.94z\"/><path d=\"M17.41 7.96l-1.37-1.37c-.4-.4-.92-.59-1.43-.59-.52 0-1.04.2-1.43.59L10.3 9.45l-7.72 7.72c-.78.78-.78 2.05 0 2.83L4 21.41c.39.39.9.59 1.41.59.51 0 1.02-.2 1.41-.59l7.78-7.78 2.81-2.81c.8-.78.8-2.07 0-2.86zM5.41 20L4 18.59l7.72-7.72 1.47 1.35L5.41 20z\"/>\n",
              "  </svg>\n",
              "      </button>\n",
              "      \n",
              "  <style>\n",
              "    .colab-df-container {\n",
              "      display:flex;\n",
              "      flex-wrap:wrap;\n",
              "      gap: 12px;\n",
              "    }\n",
              "\n",
              "    .colab-df-convert {\n",
              "      background-color: #E8F0FE;\n",
              "      border: none;\n",
              "      border-radius: 50%;\n",
              "      cursor: pointer;\n",
              "      display: none;\n",
              "      fill: #1967D2;\n",
              "      height: 32px;\n",
              "      padding: 0 0 0 0;\n",
              "      width: 32px;\n",
              "    }\n",
              "\n",
              "    .colab-df-convert:hover {\n",
              "      background-color: #E2EBFA;\n",
              "      box-shadow: 0px 1px 2px rgba(60, 64, 67, 0.3), 0px 1px 3px 1px rgba(60, 64, 67, 0.15);\n",
              "      fill: #174EA6;\n",
              "    }\n",
              "\n",
              "    [theme=dark] .colab-df-convert {\n",
              "      background-color: #3B4455;\n",
              "      fill: #D2E3FC;\n",
              "    }\n",
              "\n",
              "    [theme=dark] .colab-df-convert:hover {\n",
              "      background-color: #434B5C;\n",
              "      box-shadow: 0px 1px 3px 1px rgba(0, 0, 0, 0.15);\n",
              "      filter: drop-shadow(0px 1px 2px rgba(0, 0, 0, 0.3));\n",
              "      fill: #FFFFFF;\n",
              "    }\n",
              "  </style>\n",
              "\n",
              "      <script>\n",
              "        const buttonEl =\n",
              "          document.querySelector('#df-a91640e4-7145-4e8e-a4dd-081ddefc9f9d button.colab-df-convert');\n",
              "        buttonEl.style.display =\n",
              "          google.colab.kernel.accessAllowed ? 'block' : 'none';\n",
              "\n",
              "        async function convertToInteractive(key) {\n",
              "          const element = document.querySelector('#df-a91640e4-7145-4e8e-a4dd-081ddefc9f9d');\n",
              "          const dataTable =\n",
              "            await google.colab.kernel.invokeFunction('convertToInteractive',\n",
              "                                                     [key], {});\n",
              "          if (!dataTable) return;\n",
              "\n",
              "          const docLinkHtml = 'Like what you see? Visit the ' +\n",
              "            '<a target=\"_blank\" href=https://colab.research.google.com/notebooks/data_table.ipynb>data table notebook</a>'\n",
              "            + ' to learn more about interactive tables.';\n",
              "          element.innerHTML = '';\n",
              "          dataTable['output_type'] = 'display_data';\n",
              "          await google.colab.output.renderOutput(dataTable, element);\n",
              "          const docLink = document.createElement('div');\n",
              "          docLink.innerHTML = docLinkHtml;\n",
              "          element.appendChild(docLink);\n",
              "        }\n",
              "      </script>\n",
              "    </div>\n",
              "  </div>\n",
              "  "
            ]
          },
          "metadata": {},
          "execution_count": 154
        }
      ]
    },
    {
      "cell_type": "code",
      "source": [
        "df['Indepence'].min()"
      ],
      "metadata": {
        "id": "tyvwzmK-LkV2",
        "colab": {
          "base_uri": "https://localhost:8080/"
        },
        "outputId": "0a4c60cd-3dbc-434f-d6bd-0cced3f2b8f2"
      },
      "execution_count": null,
      "outputs": [
        {
          "output_type": "execute_result",
          "data": {
            "text/plain": [
              "1816"
            ]
          },
          "metadata": {},
          "execution_count": 155
        }
      ]
    },
    {
      "cell_type": "code",
      "source": [
        "df1 = df[df.Indepence == df.Indepence.min()]"
      ],
      "metadata": {
        "id": "2liP3DKTL8Sh"
      },
      "execution_count": null,
      "outputs": []
    },
    {
      "cell_type": "code",
      "source": [
        "df1"
      ],
      "metadata": {
        "colab": {
          "base_uri": "https://localhost:8080/",
          "height": 81
        },
        "id": "N9OmzCCo9pi8",
        "outputId": "ea13f2c3-d044-46be-86f4-57490bf52aed"
      },
      "execution_count": null,
      "outputs": [
        {
          "output_type": "execute_result",
          "data": {
            "text/plain": [
              "                   Regin     Area Official Language             Government  \\\n",
              "Argentina  south america  2780400           spanish  Presidential republic   \n",
              "\n",
              "           Indepence  Population  Populationdensity  Lifeexpentency  \\\n",
              "Argentina       1816    45809000               16.5              73   \n",
              "\n",
              "           costofliving  \n",
              "Argentina            41  "
            ],
            "text/html": [
              "\n",
              "  <div id=\"df-5a7d4972-b118-48f9-a7c4-ff2ce7ef1c0c\">\n",
              "    <div class=\"colab-df-container\">\n",
              "      <div>\n",
              "<style scoped>\n",
              "    .dataframe tbody tr th:only-of-type {\n",
              "        vertical-align: middle;\n",
              "    }\n",
              "\n",
              "    .dataframe tbody tr th {\n",
              "        vertical-align: top;\n",
              "    }\n",
              "\n",
              "    .dataframe thead th {\n",
              "        text-align: right;\n",
              "    }\n",
              "</style>\n",
              "<table border=\"1\" class=\"dataframe\">\n",
              "  <thead>\n",
              "    <tr style=\"text-align: right;\">\n",
              "      <th></th>\n",
              "      <th>Regin</th>\n",
              "      <th>Area</th>\n",
              "      <th>Official Language</th>\n",
              "      <th>Government</th>\n",
              "      <th>Indepence</th>\n",
              "      <th>Population</th>\n",
              "      <th>Populationdensity</th>\n",
              "      <th>Lifeexpentency</th>\n",
              "      <th>costofliving</th>\n",
              "    </tr>\n",
              "  </thead>\n",
              "  <tbody>\n",
              "    <tr>\n",
              "      <th>Argentina</th>\n",
              "      <td>south america</td>\n",
              "      <td>2780400</td>\n",
              "      <td>spanish</td>\n",
              "      <td>Presidential republic</td>\n",
              "      <td>1816</td>\n",
              "      <td>45809000</td>\n",
              "      <td>16.5</td>\n",
              "      <td>73</td>\n",
              "      <td>41</td>\n",
              "    </tr>\n",
              "  </tbody>\n",
              "</table>\n",
              "</div>\n",
              "      <button class=\"colab-df-convert\" onclick=\"convertToInteractive('df-5a7d4972-b118-48f9-a7c4-ff2ce7ef1c0c')\"\n",
              "              title=\"Convert this dataframe to an interactive table.\"\n",
              "              style=\"display:none;\">\n",
              "        \n",
              "  <svg xmlns=\"http://www.w3.org/2000/svg\" height=\"24px\"viewBox=\"0 0 24 24\"\n",
              "       width=\"24px\">\n",
              "    <path d=\"M0 0h24v24H0V0z\" fill=\"none\"/>\n",
              "    <path d=\"M18.56 5.44l.94 2.06.94-2.06 2.06-.94-2.06-.94-.94-2.06-.94 2.06-2.06.94zm-11 1L8.5 8.5l.94-2.06 2.06-.94-2.06-.94L8.5 2.5l-.94 2.06-2.06.94zm10 10l.94 2.06.94-2.06 2.06-.94-2.06-.94-.94-2.06-.94 2.06-2.06.94z\"/><path d=\"M17.41 7.96l-1.37-1.37c-.4-.4-.92-.59-1.43-.59-.52 0-1.04.2-1.43.59L10.3 9.45l-7.72 7.72c-.78.78-.78 2.05 0 2.83L4 21.41c.39.39.9.59 1.41.59.51 0 1.02-.2 1.41-.59l7.78-7.78 2.81-2.81c.8-.78.8-2.07 0-2.86zM5.41 20L4 18.59l7.72-7.72 1.47 1.35L5.41 20z\"/>\n",
              "  </svg>\n",
              "      </button>\n",
              "      \n",
              "  <style>\n",
              "    .colab-df-container {\n",
              "      display:flex;\n",
              "      flex-wrap:wrap;\n",
              "      gap: 12px;\n",
              "    }\n",
              "\n",
              "    .colab-df-convert {\n",
              "      background-color: #E8F0FE;\n",
              "      border: none;\n",
              "      border-radius: 50%;\n",
              "      cursor: pointer;\n",
              "      display: none;\n",
              "      fill: #1967D2;\n",
              "      height: 32px;\n",
              "      padding: 0 0 0 0;\n",
              "      width: 32px;\n",
              "    }\n",
              "\n",
              "    .colab-df-convert:hover {\n",
              "      background-color: #E2EBFA;\n",
              "      box-shadow: 0px 1px 2px rgba(60, 64, 67, 0.3), 0px 1px 3px 1px rgba(60, 64, 67, 0.15);\n",
              "      fill: #174EA6;\n",
              "    }\n",
              "\n",
              "    [theme=dark] .colab-df-convert {\n",
              "      background-color: #3B4455;\n",
              "      fill: #D2E3FC;\n",
              "    }\n",
              "\n",
              "    [theme=dark] .colab-df-convert:hover {\n",
              "      background-color: #434B5C;\n",
              "      box-shadow: 0px 1px 3px 1px rgba(0, 0, 0, 0.15);\n",
              "      filter: drop-shadow(0px 1px 2px rgba(0, 0, 0, 0.3));\n",
              "      fill: #FFFFFF;\n",
              "    }\n",
              "  </style>\n",
              "\n",
              "      <script>\n",
              "        const buttonEl =\n",
              "          document.querySelector('#df-5a7d4972-b118-48f9-a7c4-ff2ce7ef1c0c button.colab-df-convert');\n",
              "        buttonEl.style.display =\n",
              "          google.colab.kernel.accessAllowed ? 'block' : 'none';\n",
              "\n",
              "        async function convertToInteractive(key) {\n",
              "          const element = document.querySelector('#df-5a7d4972-b118-48f9-a7c4-ff2ce7ef1c0c');\n",
              "          const dataTable =\n",
              "            await google.colab.kernel.invokeFunction('convertToInteractive',\n",
              "                                                     [key], {});\n",
              "          if (!dataTable) return;\n",
              "\n",
              "          const docLinkHtml = 'Like what you see? Visit the ' +\n",
              "            '<a target=\"_blank\" href=https://colab.research.google.com/notebooks/data_table.ipynb>data table notebook</a>'\n",
              "            + ' to learn more about interactive tables.';\n",
              "          element.innerHTML = '';\n",
              "          dataTable['output_type'] = 'display_data';\n",
              "          await google.colab.output.renderOutput(dataTable, element);\n",
              "          const docLink = document.createElement('div');\n",
              "          docLink.innerHTML = docLinkHtml;\n",
              "          element.appendChild(docLink);\n",
              "        }\n",
              "      </script>\n",
              "    </div>\n",
              "  </div>\n",
              "  "
            ]
          },
          "metadata": {},
          "execution_count": 157
        }
      ]
    },
    {
      "cell_type": "code",
      "source": [
        "df2 = df.sort_values(\"Indepence\",ascending = True).head(1)"
      ],
      "metadata": {
        "id": "d7s_0GFq-QRb"
      },
      "execution_count": null,
      "outputs": []
    },
    {
      "cell_type": "code",
      "source": [
        "df2"
      ],
      "metadata": {
        "colab": {
          "base_uri": "https://localhost:8080/",
          "height": 81
        },
        "id": "YUDEDYMJ-Z35",
        "outputId": "0c0626f9-8720-4eee-894e-ab11402f31b5"
      },
      "execution_count": null,
      "outputs": [
        {
          "output_type": "execute_result",
          "data": {
            "text/plain": [
              "                   Regin     Area Official Language             Government  \\\n",
              "Argentina  south america  2780400           spanish  Presidential republic   \n",
              "\n",
              "           Indepence  Population  Populationdensity  Lifeexpentency  \\\n",
              "Argentina       1816    45809000               16.5              73   \n",
              "\n",
              "           costofliving  \n",
              "Argentina            41  "
            ],
            "text/html": [
              "\n",
              "  <div id=\"df-856eb7a0-109c-4a78-8443-5d90fe1f478a\">\n",
              "    <div class=\"colab-df-container\">\n",
              "      <div>\n",
              "<style scoped>\n",
              "    .dataframe tbody tr th:only-of-type {\n",
              "        vertical-align: middle;\n",
              "    }\n",
              "\n",
              "    .dataframe tbody tr th {\n",
              "        vertical-align: top;\n",
              "    }\n",
              "\n",
              "    .dataframe thead th {\n",
              "        text-align: right;\n",
              "    }\n",
              "</style>\n",
              "<table border=\"1\" class=\"dataframe\">\n",
              "  <thead>\n",
              "    <tr style=\"text-align: right;\">\n",
              "      <th></th>\n",
              "      <th>Regin</th>\n",
              "      <th>Area</th>\n",
              "      <th>Official Language</th>\n",
              "      <th>Government</th>\n",
              "      <th>Indepence</th>\n",
              "      <th>Population</th>\n",
              "      <th>Populationdensity</th>\n",
              "      <th>Lifeexpentency</th>\n",
              "      <th>costofliving</th>\n",
              "    </tr>\n",
              "  </thead>\n",
              "  <tbody>\n",
              "    <tr>\n",
              "      <th>Argentina</th>\n",
              "      <td>south america</td>\n",
              "      <td>2780400</td>\n",
              "      <td>spanish</td>\n",
              "      <td>Presidential republic</td>\n",
              "      <td>1816</td>\n",
              "      <td>45809000</td>\n",
              "      <td>16.5</td>\n",
              "      <td>73</td>\n",
              "      <td>41</td>\n",
              "    </tr>\n",
              "  </tbody>\n",
              "</table>\n",
              "</div>\n",
              "      <button class=\"colab-df-convert\" onclick=\"convertToInteractive('df-856eb7a0-109c-4a78-8443-5d90fe1f478a')\"\n",
              "              title=\"Convert this dataframe to an interactive table.\"\n",
              "              style=\"display:none;\">\n",
              "        \n",
              "  <svg xmlns=\"http://www.w3.org/2000/svg\" height=\"24px\"viewBox=\"0 0 24 24\"\n",
              "       width=\"24px\">\n",
              "    <path d=\"M0 0h24v24H0V0z\" fill=\"none\"/>\n",
              "    <path d=\"M18.56 5.44l.94 2.06.94-2.06 2.06-.94-2.06-.94-.94-2.06-.94 2.06-2.06.94zm-11 1L8.5 8.5l.94-2.06 2.06-.94-2.06-.94L8.5 2.5l-.94 2.06-2.06.94zm10 10l.94 2.06.94-2.06 2.06-.94-2.06-.94-.94-2.06-.94 2.06-2.06.94z\"/><path d=\"M17.41 7.96l-1.37-1.37c-.4-.4-.92-.59-1.43-.59-.52 0-1.04.2-1.43.59L10.3 9.45l-7.72 7.72c-.78.78-.78 2.05 0 2.83L4 21.41c.39.39.9.59 1.41.59.51 0 1.02-.2 1.41-.59l7.78-7.78 2.81-2.81c.8-.78.8-2.07 0-2.86zM5.41 20L4 18.59l7.72-7.72 1.47 1.35L5.41 20z\"/>\n",
              "  </svg>\n",
              "      </button>\n",
              "      \n",
              "  <style>\n",
              "    .colab-df-container {\n",
              "      display:flex;\n",
              "      flex-wrap:wrap;\n",
              "      gap: 12px;\n",
              "    }\n",
              "\n",
              "    .colab-df-convert {\n",
              "      background-color: #E8F0FE;\n",
              "      border: none;\n",
              "      border-radius: 50%;\n",
              "      cursor: pointer;\n",
              "      display: none;\n",
              "      fill: #1967D2;\n",
              "      height: 32px;\n",
              "      padding: 0 0 0 0;\n",
              "      width: 32px;\n",
              "    }\n",
              "\n",
              "    .colab-df-convert:hover {\n",
              "      background-color: #E2EBFA;\n",
              "      box-shadow: 0px 1px 2px rgba(60, 64, 67, 0.3), 0px 1px 3px 1px rgba(60, 64, 67, 0.15);\n",
              "      fill: #174EA6;\n",
              "    }\n",
              "\n",
              "    [theme=dark] .colab-df-convert {\n",
              "      background-color: #3B4455;\n",
              "      fill: #D2E3FC;\n",
              "    }\n",
              "\n",
              "    [theme=dark] .colab-df-convert:hover {\n",
              "      background-color: #434B5C;\n",
              "      box-shadow: 0px 1px 3px 1px rgba(0, 0, 0, 0.15);\n",
              "      filter: drop-shadow(0px 1px 2px rgba(0, 0, 0, 0.3));\n",
              "      fill: #FFFFFF;\n",
              "    }\n",
              "  </style>\n",
              "\n",
              "      <script>\n",
              "        const buttonEl =\n",
              "          document.querySelector('#df-856eb7a0-109c-4a78-8443-5d90fe1f478a button.colab-df-convert');\n",
              "        buttonEl.style.display =\n",
              "          google.colab.kernel.accessAllowed ? 'block' : 'none';\n",
              "\n",
              "        async function convertToInteractive(key) {\n",
              "          const element = document.querySelector('#df-856eb7a0-109c-4a78-8443-5d90fe1f478a');\n",
              "          const dataTable =\n",
              "            await google.colab.kernel.invokeFunction('convertToInteractive',\n",
              "                                                     [key], {});\n",
              "          if (!dataTable) return;\n",
              "\n",
              "          const docLinkHtml = 'Like what you see? Visit the ' +\n",
              "            '<a target=\"_blank\" href=https://colab.research.google.com/notebooks/data_table.ipynb>data table notebook</a>'\n",
              "            + ' to learn more about interactive tables.';\n",
              "          element.innerHTML = '';\n",
              "          dataTable['output_type'] = 'display_data';\n",
              "          await google.colab.output.renderOutput(dataTable, element);\n",
              "          const docLink = document.createElement('div');\n",
              "          docLink.innerHTML = docLinkHtml;\n",
              "          element.appendChild(docLink);\n",
              "        }\n",
              "      </script>\n",
              "    </div>\n",
              "  </div>\n",
              "  "
            ]
          },
          "metadata": {},
          "execution_count": 159
        }
      ]
    },
    {
      "cell_type": "code",
      "source": [
        "df3 = df[df.Regin == \"South Asia\"]"
      ],
      "metadata": {
        "id": "0r7HE3Nf-ajQ"
      },
      "execution_count": null,
      "outputs": []
    },
    {
      "cell_type": "code",
      "source": [
        "df3"
      ],
      "metadata": {
        "colab": {
          "base_uri": "https://localhost:8080/",
          "height": 143
        },
        "id": "jl2Vahv4_tyJ",
        "outputId": "ec6cfdf1-4eae-4d84-8a8b-a035341ac03c"
      },
      "execution_count": null,
      "outputs": [
        {
          "output_type": "execute_result",
          "data": {
            "text/plain": [
              "               Regin     Area Official Language  \\\n",
              "india     South Asia  3287259             Hindi   \n",
              "pakistan  South Asia   796100              urdu   \n",
              "Vietnam   South Asia   331230        Vietnamese   \n",
              "\n",
              "                              Government  Indepence  Population  \\\n",
              "india     Federal parliamentary republic       1947  1393409000   \n",
              "pakistan  Federal parliamentary republic       1947   225200000   \n",
              "Vietnam                         republic       1945    98169000   \n",
              "\n",
              "          Populationdensity  Lifeexpentency  costofliving  \n",
              "india                 423.0              69            45  \n",
              "pakistan              282.9              66            63  \n",
              "Vietnam               296.4              71            51  "
            ],
            "text/html": [
              "\n",
              "  <div id=\"df-05391b59-3ef1-4844-87ed-df6814db359f\">\n",
              "    <div class=\"colab-df-container\">\n",
              "      <div>\n",
              "<style scoped>\n",
              "    .dataframe tbody tr th:only-of-type {\n",
              "        vertical-align: middle;\n",
              "    }\n",
              "\n",
              "    .dataframe tbody tr th {\n",
              "        vertical-align: top;\n",
              "    }\n",
              "\n",
              "    .dataframe thead th {\n",
              "        text-align: right;\n",
              "    }\n",
              "</style>\n",
              "<table border=\"1\" class=\"dataframe\">\n",
              "  <thead>\n",
              "    <tr style=\"text-align: right;\">\n",
              "      <th></th>\n",
              "      <th>Regin</th>\n",
              "      <th>Area</th>\n",
              "      <th>Official Language</th>\n",
              "      <th>Government</th>\n",
              "      <th>Indepence</th>\n",
              "      <th>Population</th>\n",
              "      <th>Populationdensity</th>\n",
              "      <th>Lifeexpentency</th>\n",
              "      <th>costofliving</th>\n",
              "    </tr>\n",
              "  </thead>\n",
              "  <tbody>\n",
              "    <tr>\n",
              "      <th>india</th>\n",
              "      <td>South Asia</td>\n",
              "      <td>3287259</td>\n",
              "      <td>Hindi</td>\n",
              "      <td>Federal parliamentary republic</td>\n",
              "      <td>1947</td>\n",
              "      <td>1393409000</td>\n",
              "      <td>423.0</td>\n",
              "      <td>69</td>\n",
              "      <td>45</td>\n",
              "    </tr>\n",
              "    <tr>\n",
              "      <th>pakistan</th>\n",
              "      <td>South Asia</td>\n",
              "      <td>796100</td>\n",
              "      <td>urdu</td>\n",
              "      <td>Federal parliamentary republic</td>\n",
              "      <td>1947</td>\n",
              "      <td>225200000</td>\n",
              "      <td>282.9</td>\n",
              "      <td>66</td>\n",
              "      <td>63</td>\n",
              "    </tr>\n",
              "    <tr>\n",
              "      <th>Vietnam</th>\n",
              "      <td>South Asia</td>\n",
              "      <td>331230</td>\n",
              "      <td>Vietnamese</td>\n",
              "      <td>republic</td>\n",
              "      <td>1945</td>\n",
              "      <td>98169000</td>\n",
              "      <td>296.4</td>\n",
              "      <td>71</td>\n",
              "      <td>51</td>\n",
              "    </tr>\n",
              "  </tbody>\n",
              "</table>\n",
              "</div>\n",
              "      <button class=\"colab-df-convert\" onclick=\"convertToInteractive('df-05391b59-3ef1-4844-87ed-df6814db359f')\"\n",
              "              title=\"Convert this dataframe to an interactive table.\"\n",
              "              style=\"display:none;\">\n",
              "        \n",
              "  <svg xmlns=\"http://www.w3.org/2000/svg\" height=\"24px\"viewBox=\"0 0 24 24\"\n",
              "       width=\"24px\">\n",
              "    <path d=\"M0 0h24v24H0V0z\" fill=\"none\"/>\n",
              "    <path d=\"M18.56 5.44l.94 2.06.94-2.06 2.06-.94-2.06-.94-.94-2.06-.94 2.06-2.06.94zm-11 1L8.5 8.5l.94-2.06 2.06-.94-2.06-.94L8.5 2.5l-.94 2.06-2.06.94zm10 10l.94 2.06.94-2.06 2.06-.94-2.06-.94-.94-2.06-.94 2.06-2.06.94z\"/><path d=\"M17.41 7.96l-1.37-1.37c-.4-.4-.92-.59-1.43-.59-.52 0-1.04.2-1.43.59L10.3 9.45l-7.72 7.72c-.78.78-.78 2.05 0 2.83L4 21.41c.39.39.9.59 1.41.59.51 0 1.02-.2 1.41-.59l7.78-7.78 2.81-2.81c.8-.78.8-2.07 0-2.86zM5.41 20L4 18.59l7.72-7.72 1.47 1.35L5.41 20z\"/>\n",
              "  </svg>\n",
              "      </button>\n",
              "      \n",
              "  <style>\n",
              "    .colab-df-container {\n",
              "      display:flex;\n",
              "      flex-wrap:wrap;\n",
              "      gap: 12px;\n",
              "    }\n",
              "\n",
              "    .colab-df-convert {\n",
              "      background-color: #E8F0FE;\n",
              "      border: none;\n",
              "      border-radius: 50%;\n",
              "      cursor: pointer;\n",
              "      display: none;\n",
              "      fill: #1967D2;\n",
              "      height: 32px;\n",
              "      padding: 0 0 0 0;\n",
              "      width: 32px;\n",
              "    }\n",
              "\n",
              "    .colab-df-convert:hover {\n",
              "      background-color: #E2EBFA;\n",
              "      box-shadow: 0px 1px 2px rgba(60, 64, 67, 0.3), 0px 1px 3px 1px rgba(60, 64, 67, 0.15);\n",
              "      fill: #174EA6;\n",
              "    }\n",
              "\n",
              "    [theme=dark] .colab-df-convert {\n",
              "      background-color: #3B4455;\n",
              "      fill: #D2E3FC;\n",
              "    }\n",
              "\n",
              "    [theme=dark] .colab-df-convert:hover {\n",
              "      background-color: #434B5C;\n",
              "      box-shadow: 0px 1px 3px 1px rgba(0, 0, 0, 0.15);\n",
              "      filter: drop-shadow(0px 1px 2px rgba(0, 0, 0, 0.3));\n",
              "      fill: #FFFFFF;\n",
              "    }\n",
              "  </style>\n",
              "\n",
              "      <script>\n",
              "        const buttonEl =\n",
              "          document.querySelector('#df-05391b59-3ef1-4844-87ed-df6814db359f button.colab-df-convert');\n",
              "        buttonEl.style.display =\n",
              "          google.colab.kernel.accessAllowed ? 'block' : 'none';\n",
              "\n",
              "        async function convertToInteractive(key) {\n",
              "          const element = document.querySelector('#df-05391b59-3ef1-4844-87ed-df6814db359f');\n",
              "          const dataTable =\n",
              "            await google.colab.kernel.invokeFunction('convertToInteractive',\n",
              "                                                     [key], {});\n",
              "          if (!dataTable) return;\n",
              "\n",
              "          const docLinkHtml = 'Like what you see? Visit the ' +\n",
              "            '<a target=\"_blank\" href=https://colab.research.google.com/notebooks/data_table.ipynb>data table notebook</a>'\n",
              "            + ' to learn more about interactive tables.';\n",
              "          element.innerHTML = '';\n",
              "          dataTable['output_type'] = 'display_data';\n",
              "          await google.colab.output.renderOutput(dataTable, element);\n",
              "          const docLink = document.createElement('div');\n",
              "          docLink.innerHTML = docLinkHtml;\n",
              "          element.appendChild(docLink);\n",
              "        }\n",
              "      </script>\n",
              "    </div>\n",
              "  </div>\n",
              "  "
            ]
          },
          "metadata": {},
          "execution_count": 161
        }
      ]
    },
    {
      "cell_type": "code",
      "source": [
        "dict1= df.groupby(\"Regin\").groups"
      ],
      "metadata": {
        "id": "8mSa1vEX_tvL"
      },
      "execution_count": null,
      "outputs": []
    },
    {
      "cell_type": "code",
      "source": [
        "dict1"
      ],
      "metadata": {
        "colab": {
          "base_uri": "https://localhost:8080/"
        },
        "id": "d3FobGXt_tsQ",
        "outputId": "ec4eb716-e1ad-48d4-d709-a821121c8f12"
      },
      "execution_count": null,
      "outputs": [
        {
          "output_type": "execute_result",
          "data": {
            "text/plain": [
              "{'Eastern Europe': ['Russia'], 'South Asia': ['india', 'pakistan', 'Vietnam'], 'south america': ['Argentina'], 'western asia': ['Israel', 'Jordan']}"
            ]
          },
          "metadata": {},
          "execution_count": 163
        }
      ]
    },
    {
      "cell_type": "markdown",
      "source": [
        "Print all the groups"
      ],
      "metadata": {
        "id": "fyjz_6-qAUYP"
      }
    },
    {
      "cell_type": "code",
      "source": [
        "grouped = df.groupby([\"Regin\"])"
      ],
      "metadata": {
        "id": "7v1zPejZ_8na"
      },
      "execution_count": null,
      "outputs": []
    },
    {
      "cell_type": "code",
      "source": [
        "for regin, group in grouped:\n",
        "    print(regin)\n",
        "    print(group[[\"Regin\",\"Area\"]])\n",
        "    print(\"-------------------\\n\")"
      ],
      "metadata": {
        "colab": {
          "base_uri": "https://localhost:8080/"
        },
        "id": "rEZhgPyUAZnv",
        "outputId": "66c28aaf-235a-42f4-f84f-93280c402c46"
      },
      "execution_count": null,
      "outputs": [
        {
          "output_type": "stream",
          "name": "stdout",
          "text": [
            "Eastern Europe\n",
            "                 Regin      Area\n",
            "Russia  Eastern Europe  17098250\n",
            "-------------------\n",
            "\n",
            "South Asia\n",
            "               Regin     Area\n",
            "india     South Asia  3287259\n",
            "pakistan  South Asia   796100\n",
            "Vietnam   South Asia   331230\n",
            "-------------------\n",
            "\n",
            "south america\n",
            "                   Regin     Area\n",
            "Argentina  south america  2780400\n",
            "-------------------\n",
            "\n",
            "western asia\n",
            "               Regin   Area\n",
            "Israel  western asia  22070\n",
            "Jordan  western asia  89320\n",
            "-------------------\n",
            "\n"
          ]
        }
      ]
    },
    {
      "cell_type": "markdown",
      "source": [
        "Aggregration"
      ],
      "metadata": {
        "id": "VU3amKNAAwq3"
      }
    },
    {
      "cell_type": "code",
      "source": [
        "df.groupby([\"Regin\"]).agg(sum)"
      ],
      "metadata": {
        "colab": {
          "base_uri": "https://localhost:8080/",
          "height": 206
        },
        "id": "1sU4GGTdAixI",
        "outputId": "ad8b6d2b-ef42-4f9a-b45e-6c04ed7d2b36"
      },
      "execution_count": null,
      "outputs": [
        {
          "output_type": "execute_result",
          "data": {
            "text/plain": [
              "                    Area  Indepence  Population  Populationdensity  \\\n",
              "Regin                                                                \n",
              "Eastern Europe  17098250       1991   143446000                8.4   \n",
              "South Asia       4414589       5839  1716778000             1002.3   \n",
              "south america    2780400       1816    45809000               16.5   \n",
              "western asia      111390       3894    19633000              539.3   \n",
              "\n",
              "                Lifeexpentency  costofliving  \n",
              "Regin                                         \n",
              "Eastern Europe              66            62  \n",
              "South Asia                 206           159  \n",
              "south america               73            41  \n",
              "western asia               157            81  "
            ],
            "text/html": [
              "\n",
              "  <div id=\"df-4143f977-305f-4c7e-9f5d-8c2e9ae57cb1\">\n",
              "    <div class=\"colab-df-container\">\n",
              "      <div>\n",
              "<style scoped>\n",
              "    .dataframe tbody tr th:only-of-type {\n",
              "        vertical-align: middle;\n",
              "    }\n",
              "\n",
              "    .dataframe tbody tr th {\n",
              "        vertical-align: top;\n",
              "    }\n",
              "\n",
              "    .dataframe thead th {\n",
              "        text-align: right;\n",
              "    }\n",
              "</style>\n",
              "<table border=\"1\" class=\"dataframe\">\n",
              "  <thead>\n",
              "    <tr style=\"text-align: right;\">\n",
              "      <th></th>\n",
              "      <th>Area</th>\n",
              "      <th>Indepence</th>\n",
              "      <th>Population</th>\n",
              "      <th>Populationdensity</th>\n",
              "      <th>Lifeexpentency</th>\n",
              "      <th>costofliving</th>\n",
              "    </tr>\n",
              "    <tr>\n",
              "      <th>Regin</th>\n",
              "      <th></th>\n",
              "      <th></th>\n",
              "      <th></th>\n",
              "      <th></th>\n",
              "      <th></th>\n",
              "      <th></th>\n",
              "    </tr>\n",
              "  </thead>\n",
              "  <tbody>\n",
              "    <tr>\n",
              "      <th>Eastern Europe</th>\n",
              "      <td>17098250</td>\n",
              "      <td>1991</td>\n",
              "      <td>143446000</td>\n",
              "      <td>8.4</td>\n",
              "      <td>66</td>\n",
              "      <td>62</td>\n",
              "    </tr>\n",
              "    <tr>\n",
              "      <th>South Asia</th>\n",
              "      <td>4414589</td>\n",
              "      <td>5839</td>\n",
              "      <td>1716778000</td>\n",
              "      <td>1002.3</td>\n",
              "      <td>206</td>\n",
              "      <td>159</td>\n",
              "    </tr>\n",
              "    <tr>\n",
              "      <th>south america</th>\n",
              "      <td>2780400</td>\n",
              "      <td>1816</td>\n",
              "      <td>45809000</td>\n",
              "      <td>16.5</td>\n",
              "      <td>73</td>\n",
              "      <td>41</td>\n",
              "    </tr>\n",
              "    <tr>\n",
              "      <th>western asia</th>\n",
              "      <td>111390</td>\n",
              "      <td>3894</td>\n",
              "      <td>19633000</td>\n",
              "      <td>539.3</td>\n",
              "      <td>157</td>\n",
              "      <td>81</td>\n",
              "    </tr>\n",
              "  </tbody>\n",
              "</table>\n",
              "</div>\n",
              "      <button class=\"colab-df-convert\" onclick=\"convertToInteractive('df-4143f977-305f-4c7e-9f5d-8c2e9ae57cb1')\"\n",
              "              title=\"Convert this dataframe to an interactive table.\"\n",
              "              style=\"display:none;\">\n",
              "        \n",
              "  <svg xmlns=\"http://www.w3.org/2000/svg\" height=\"24px\"viewBox=\"0 0 24 24\"\n",
              "       width=\"24px\">\n",
              "    <path d=\"M0 0h24v24H0V0z\" fill=\"none\"/>\n",
              "    <path d=\"M18.56 5.44l.94 2.06.94-2.06 2.06-.94-2.06-.94-.94-2.06-.94 2.06-2.06.94zm-11 1L8.5 8.5l.94-2.06 2.06-.94-2.06-.94L8.5 2.5l-.94 2.06-2.06.94zm10 10l.94 2.06.94-2.06 2.06-.94-2.06-.94-.94-2.06-.94 2.06-2.06.94z\"/><path d=\"M17.41 7.96l-1.37-1.37c-.4-.4-.92-.59-1.43-.59-.52 0-1.04.2-1.43.59L10.3 9.45l-7.72 7.72c-.78.78-.78 2.05 0 2.83L4 21.41c.39.39.9.59 1.41.59.51 0 1.02-.2 1.41-.59l7.78-7.78 2.81-2.81c.8-.78.8-2.07 0-2.86zM5.41 20L4 18.59l7.72-7.72 1.47 1.35L5.41 20z\"/>\n",
              "  </svg>\n",
              "      </button>\n",
              "      \n",
              "  <style>\n",
              "    .colab-df-container {\n",
              "      display:flex;\n",
              "      flex-wrap:wrap;\n",
              "      gap: 12px;\n",
              "    }\n",
              "\n",
              "    .colab-df-convert {\n",
              "      background-color: #E8F0FE;\n",
              "      border: none;\n",
              "      border-radius: 50%;\n",
              "      cursor: pointer;\n",
              "      display: none;\n",
              "      fill: #1967D2;\n",
              "      height: 32px;\n",
              "      padding: 0 0 0 0;\n",
              "      width: 32px;\n",
              "    }\n",
              "\n",
              "    .colab-df-convert:hover {\n",
              "      background-color: #E2EBFA;\n",
              "      box-shadow: 0px 1px 2px rgba(60, 64, 67, 0.3), 0px 1px 3px 1px rgba(60, 64, 67, 0.15);\n",
              "      fill: #174EA6;\n",
              "    }\n",
              "\n",
              "    [theme=dark] .colab-df-convert {\n",
              "      background-color: #3B4455;\n",
              "      fill: #D2E3FC;\n",
              "    }\n",
              "\n",
              "    [theme=dark] .colab-df-convert:hover {\n",
              "      background-color: #434B5C;\n",
              "      box-shadow: 0px 1px 3px 1px rgba(0, 0, 0, 0.15);\n",
              "      filter: drop-shadow(0px 1px 2px rgba(0, 0, 0, 0.3));\n",
              "      fill: #FFFFFF;\n",
              "    }\n",
              "  </style>\n",
              "\n",
              "      <script>\n",
              "        const buttonEl =\n",
              "          document.querySelector('#df-4143f977-305f-4c7e-9f5d-8c2e9ae57cb1 button.colab-df-convert');\n",
              "        buttonEl.style.display =\n",
              "          google.colab.kernel.accessAllowed ? 'block' : 'none';\n",
              "\n",
              "        async function convertToInteractive(key) {\n",
              "          const element = document.querySelector('#df-4143f977-305f-4c7e-9f5d-8c2e9ae57cb1');\n",
              "          const dataTable =\n",
              "            await google.colab.kernel.invokeFunction('convertToInteractive',\n",
              "                                                     [key], {});\n",
              "          if (!dataTable) return;\n",
              "\n",
              "          const docLinkHtml = 'Like what you see? Visit the ' +\n",
              "            '<a target=\"_blank\" href=https://colab.research.google.com/notebooks/data_table.ipynb>data table notebook</a>'\n",
              "            + ' to learn more about interactive tables.';\n",
              "          element.innerHTML = '';\n",
              "          dataTable['output_type'] = 'display_data';\n",
              "          await google.colab.output.renderOutput(dataTable, element);\n",
              "          const docLink = document.createElement('div');\n",
              "          docLink.innerHTML = docLinkHtml;\n",
              "          element.appendChild(docLink);\n",
              "        }\n",
              "      </script>\n",
              "    </div>\n",
              "  </div>\n",
              "  "
            ]
          },
          "metadata": {},
          "execution_count": 168
        }
      ]
    },
    {
      "cell_type": "code",
      "source": [
        "df.groupby([\"Official Language\"]).agg(\"min\")[\"Lifeexpentency\"]"
      ],
      "metadata": {
        "colab": {
          "base_uri": "https://localhost:8080/"
        },
        "id": "TZqzcV8pA2ev",
        "outputId": "aafd0b4e-2061-480d-d46b-b71c0d98b225"
      },
      "execution_count": null,
      "outputs": [
        {
          "output_type": "execute_result",
          "data": {
            "text/plain": [
              "Official Language\n",
              "Arabic        76\n",
              "Hindi         69\n",
              "Russian       66\n",
              "Vietnamese    71\n",
              "hebrew        81\n",
              "spanish       73\n",
              "urdu          66\n",
              "Name: Lifeexpentency, dtype: int64"
            ]
          },
          "metadata": {},
          "execution_count": 174
        }
      ]
    },
    {
      "cell_type": "code",
      "source": [
        "df.to_csv(\"MyCountries.csv\")"
      ],
      "metadata": {
        "id": "LmnnVDXwBCzC"
      },
      "execution_count": null,
      "outputs": []
    }
  ]
}